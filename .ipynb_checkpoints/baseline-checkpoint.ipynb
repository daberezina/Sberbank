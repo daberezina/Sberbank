{
 "cells": [
  {
   "cell_type": "code",
   "execution_count": 1,
   "metadata": {
    "collapsed": false
   },
   "outputs": [
    {
     "name": "stderr",
     "output_type": "stream",
     "text": [
      "/Users/daber/anaconda/lib/python3.6/site-packages/sklearn/cross_validation.py:44: DeprecationWarning: This module was deprecated in version 0.18 in favor of the model_selection module into which all the refactored classes and functions are moved. Also note that the interface of the new CV iterators are different from that of this module. This module will be removed in 0.20.\n",
      "  \"This module will be removed in 0.20.\", DeprecationWarning)\n"
     ]
    },
    {
     "name": "stdout",
     "output_type": "stream",
     "text": [
      "Populating the interactive namespace from numpy and matplotlib\n"
     ]
    }
   ],
   "source": [
    "import numpy as np\n",
    "import pandas as pd\n",
    "import xgboost as xgb\n",
    "\n",
    "import matplotlib.pyplot as plt\n",
    "import seaborn as sns\n",
    "\n",
    "from sklearn.preprocessing import LabelEncoder\n",
    "\n",
    "%pylab inline"
   ]
  },
  {
   "cell_type": "code",
   "execution_count": 2,
   "metadata": {
    "collapsed": false
   },
   "outputs": [],
   "source": [
    "data_init = pd.read_excel(\"~/Projects/Sberbank/total3.xlsx\")"
   ]
  },
  {
   "cell_type": "code",
   "execution_count": 3,
   "metadata": {
    "collapsed": true
   },
   "outputs": [],
   "source": [
    "data = data_init.copy()"
   ]
  },
  {
   "cell_type": "code",
   "execution_count": 4,
   "metadata": {
    "collapsed": false
   },
   "outputs": [
    {
     "data": {
      "text/plain": [
       "25941"
      ]
     },
     "execution_count": 4,
     "metadata": {},
     "output_type": "execute_result"
    }
   ],
   "source": [
    "len(data[data.state > 0])"
   ]
  },
  {
   "cell_type": "code",
   "execution_count": 5,
   "metadata": {
    "collapsed": true
   },
   "outputs": [],
   "source": [
    "data[\"price_m\"] = data.price_doc / data.full_sq\n",
    "#data[\"price_m\"] = np.log1p(data.price_doc)"
   ]
  },
  {
   "cell_type": "code",
   "execution_count": 6,
   "metadata": {
    "collapsed": true
   },
   "outputs": [],
   "source": [
    "data[\"year\"] = [int(d[:4]) for d in data.timestamp.values]"
   ]
  },
  {
   "cell_type": "code",
   "execution_count": 7,
   "metadata": {
    "collapsed": true
   },
   "outputs": [],
   "source": [
    "data[\"month\"] = [(d[:4])+(d[5:7]) for d in data.timestamp.values]"
   ]
  },
  {
   "cell_type": "code",
   "execution_count": 159,
   "metadata": {
    "collapsed": false
   },
   "outputs": [],
   "source": [
    "#avp = pd.DataFrame()\n",
    "#avp[\"sub_area\"] = np.unique(data.sub_area.values)\n",
    "#avp[\"av_p\"] = [data[(data.price_doc != 0)&(data.sub_area == r)].price_m.mean() \n",
    "#               for r in avp.sub_area.values]\n",
    "#data = data.merge(avp, on=\"sub_area\")\n",
    "#data[\"low\"] = np.where(data.price_m.values / data.av_p.values < 0.5, 1, 0)\n",
    "#data[\"low\"] = np.where(data.price_doc.values == 0, 0, data.low.values)\n",
    "#data = data[data.low == 0].reset_index(drop=True)\n",
    "#data.drop([\"low\", \"av_p\"], 1, inplace=True)"
   ]
  },
  {
   "cell_type": "code",
   "execution_count": 8,
   "metadata": {
    "collapsed": false
   },
   "outputs": [],
   "source": [
    "data[\"expl\"] = -data.build_year + data.year"
   ]
  },
  {
   "cell_type": "code",
   "execution_count": 9,
   "metadata": {
    "collapsed": false
   },
   "outputs": [],
   "source": [
    "ms = np.random.choice(np.unique(data[data.price_doc != 0].month.values)[18:], \n",
    "                      size = 6, replace=False)\n",
    "ms\n",
    "ms = ['201310', '201304', '201305', '201410', '201306', '201503']"
   ]
  },
  {
   "cell_type": "code",
   "execution_count": 10,
   "metadata": {
    "collapsed": true
   },
   "outputs": [],
   "source": [
    "data[\"val\"] = [1 if m in ms else 0 for m in data.month.values]"
   ]
  },
  {
   "cell_type": "code",
   "execution_count": 11,
   "metadata": {
    "collapsed": false
   },
   "outputs": [],
   "source": [
    "#data.drop(\"av\", 1, inplace=True)\n",
    "av = pd.DataFrame()\n",
    "av[\"sub_area\"] = np.unique(data.sub_area.values)\n",
    "#av[\"av\"] = [data[(data.price_doc != 0)&(data.val == 0)&(data.sub_area == s)].price_m.mean() \n",
    "#            for s in av.sub_area.values]\n",
    "av[\"av\"] = [data[(data.price_doc != 0)&(data.sub_area == s)].price_m.mean() \n",
    "            for s in av.sub_area.values]\n",
    "\n",
    "data = data.merge(av, on=\"sub_area\")"
   ]
  },
  {
   "cell_type": "code",
   "execution_count": 12,
   "metadata": {
    "collapsed": false
   },
   "outputs": [],
   "source": [
    "months = list(np.unique(data.month.values))\n",
    "metr = [1]*16 + [128900,129600,131900,132100,127800,124550,125940,124860,130225,130800,134470,\n",
    "               133000,135310,140700,143680,150535,139000,138100,140400,142600,145890,145100,\n",
    "               146360,151040,147250,152600,154200,157960,159430,159880,160740,159100,156600,\n",
    "               153385,151970,150060,147890,150670,147500,144768,143445,141200]\n",
    "\n",
    "av_prs = []\n",
    "\n",
    "for i,m in enumerate(months):\n",
    "    if i < 47:\n",
    "        av_prs.append(float(data[(data.month == m)].price_m.mean()))\n",
    "    else:\n",
    "        av_prs.append(av_prs[i-1]*metr[i]/metr[i-1])"
   ]
  },
  {
   "cell_type": "code",
   "execution_count": 14,
   "metadata": {
    "collapsed": false
   },
   "outputs": [],
   "source": [
    "pv = []\n",
    "\n",
    "for i in range(len(data)):\n",
    "    ind = months.index(data.month.values[i])\n",
    "    if data.month.values[i] in ms:\n",
    "        pv.append(av_prs[ind-1]*metr[ind]/metr[ind-1])\n",
    "    else:\n",
    "        pv.append(av_prs[ind])\n",
    "\n",
    "data[\"pv\"] = pv"
   ]
  },
  {
   "cell_type": "code",
   "execution_count": 13,
   "metadata": {
    "collapsed": true
   },
   "outputs": [],
   "source": [
    "#For final forecast\n",
    "\n",
    "pv = []\n",
    "\n",
    "for i in range(len(data)):\n",
    "    ind = months.index(data.month.values[i])\n",
    "    pv.append(av_prs[ind])\n",
    "\n",
    "data[\"pv\"] = pv"
   ]
  },
  {
   "cell_type": "code",
   "execution_count": 14,
   "metadata": {
    "collapsed": true
   },
   "outputs": [],
   "source": [
    "#data.drop([\"id\", \"timestamp\", \"sub_area\", \"month\"],1,inplace=True)\n",
    "data.drop([\"timestamp\", \"sub_area\", \"month\"],1,inplace=True)"
   ]
  },
  {
   "cell_type": "code",
   "execution_count": 15,
   "metadata": {
    "collapsed": true
   },
   "outputs": [],
   "source": [
    "for col in data.columns:\n",
    "    if data.ix[:, col].dtype == 'object':\n",
    "        data.ix[:, col] = data.ix[:, col].apply(lambda x: str(x))\n",
    "        le = LabelEncoder()\n",
    "        data.ix[:, col] = le.fit_transform(data.ix[:, col].values)"
   ]
  },
  {
   "cell_type": "code",
   "execution_count": 16,
   "metadata": {
    "collapsed": true
   },
   "outputs": [],
   "source": [
    "#data[\"test_feature\"] = data.floor / data.max_floor"
   ]
  },
  {
   "cell_type": "code",
   "execution_count": 17,
   "metadata": {
    "collapsed": true
   },
   "outputs": [],
   "source": [
    "to_del = [\"thermal_power_plant_raion\", \"incineration_raion\", \"oil_chemistry_raion\",\n",
    "         \"radiation_raion\", \"railroad_terminal_raion\", \"nuclear_reactor_raion\", \n",
    "          \"detention_facility_raion\", \"metro_min_walk\", \"children_school\", \"children_preschool\",\n",
    "         \"7_14_all\", \"0_6_all\", \"0_13_all\", \"Unnamed: 86\"]"
   ]
  },
  {
   "cell_type": "code",
   "execution_count": 18,
   "metadata": {
    "collapsed": false
   },
   "outputs": [],
   "source": [
    "data.drop(to_del, 1, inplace=True)"
   ]
  },
  {
   "cell_type": "code",
   "execution_count": 19,
   "metadata": {
    "collapsed": true
   },
   "outputs": [],
   "source": [
    "xgb_params = {\n",
    "    'eta': 0.05,\n",
    "    'max_depth': 5,\n",
    "    'subsample': 1.0,\n",
    "    'colsample_bytree': 0.7,\n",
    "    'objective': 'reg:linear',\n",
    "    'eval_metric': 'rmse',\n",
    "    'silent': 1\n",
    "}"
   ]
  },
  {
   "cell_type": "code",
   "execution_count": 20,
   "metadata": {
    "collapsed": false
   },
   "outputs": [],
   "source": [
    "df = data.drop([\"price_m\", \"price_doc\", \"id\"],1)"
   ]
  },
  {
   "cell_type": "code",
   "execution_count": 21,
   "metadata": {
    "collapsed": false
   },
   "outputs": [
    {
     "name": "stdout",
     "output_type": "stream",
     "text": [
      "[0]\tval-rmse:134370\n",
      "Will train until val-rmse hasn't improved in 20 rounds.\n",
      "[20]\tval-rmse:61697.7\n",
      "[40]\tval-rmse:43164.3\n",
      "[60]\tval-rmse:39291.7\n",
      "[80]\tval-rmse:38415.6\n",
      "[100]\tval-rmse:38133.3\n",
      "[120]\tval-rmse:37952.1\n",
      "[140]\tval-rmse:37806.2\n",
      "[160]\tval-rmse:37704.9\n",
      "[180]\tval-rmse:37645.5\n",
      "[200]\tval-rmse:37588.1\n",
      "[220]\tval-rmse:37514.4\n",
      "[240]\tval-rmse:37413.1\n",
      "[260]\tval-rmse:37365.3\n",
      "[280]\tval-rmse:37331.6\n",
      "[300]\tval-rmse:37280.2\n",
      "[320]\tval-rmse:37227.8\n",
      "[340]\tval-rmse:37194.3\n",
      "[360]\tval-rmse:37151.1\n",
      "[380]\tval-rmse:37139.4\n",
      "[400]\tval-rmse:37117\n",
      "[420]\tval-rmse:37117.4\n",
      "[440]\tval-rmse:37061.9\n",
      "[460]\tval-rmse:37042.7\n",
      "[480]\tval-rmse:37021.6\n",
      "0.410320327382\n",
      "CPU times: user 2min 35s, sys: 1.54 s, total: 2min 37s\n",
      "Wall time: 45.7 s\n"
     ]
    }
   ],
   "source": [
    "%%time\n",
    "\n",
    "ind = data[(data.price_doc != 0)&(data.val == 1)].index\n",
    "nind = list(set(data[data.price_m != 0].index) - set(ind))\n",
    "\n",
    "df.drop(\"val\", 1, inplace=True)\n",
    "\n",
    "y_val, y_train = data.loc[ind].price_m.values, data.loc[nind].price_m.values\n",
    "X_val, X_train = df.loc[ind].values, df.loc[nind].values\n",
    "\n",
    "dtrain = xgb.DMatrix(X_train, y_train, feature_names=df.columns)\n",
    "dval = xgb.DMatrix(X_val, y_val, feature_names=df.columns)\n",
    "\n",
    "partial_model = xgb.train(xgb_params, dtrain, num_boost_round=500, evals=[(dval, 'val')],\n",
    "                       early_stopping_rounds=20, verbose_eval=20)\n",
    "\n",
    "preds = partial_model.predict(dval)\n",
    "#preds = np.exp(preds) - 1\n",
    "preds = X_val[:,0] * preds\n",
    "real = data.loc[ind].price_doc.values\n",
    "l = (np.log1p(preds) - np.log1p(real))**2\n",
    "print(np.sqrt((1/len(preds))*sum(l)))"
   ]
  },
  {
   "cell_type": "code",
   "execution_count": null,
   "metadata": {
    "collapsed": true
   },
   "outputs": [],
   "source": []
  },
  {
   "cell_type": "code",
   "execution_count": null,
   "metadata": {
    "collapsed": true
   },
   "outputs": [],
   "source": []
  },
  {
   "cell_type": "code",
   "execution_count": 139,
   "metadata": {
    "collapsed": true
   },
   "outputs": [],
   "source": [
    "X = data[data.price_doc != 0].drop([\"price_m\", \"price_doc\", \"val\", \"id\"],1).values\n",
    "y = data[data.price_doc != 0].price_m.values\n",
    "X1 = data[data.price_doc == 0].drop([\"price_m\", \"price_doc\", \"val\", \"id\"],1).values\n",
    "y1 = data[data.price_doc == 0].price_m.values\n",
    "dtrain = xgb.DMatrix(X, y, feature_names=df.columns)\n",
    "dtest = xgb.DMatrix(X1, y1, feature_names=df.columns)"
   ]
  },
  {
   "cell_type": "code",
   "execution_count": 136,
   "metadata": {
    "collapsed": true
   },
   "outputs": [],
   "source": [
    "evallist  = [(dtest,'eval'), (dtrain,'train')]"
   ]
  },
  {
   "cell_type": "code",
   "execution_count": 22,
   "metadata": {
    "collapsed": false
   },
   "outputs": [],
   "source": [
    "ids = data[data.price_doc == 0].id.values\n",
    "X = data[data.price_doc == 0].drop([\"price_m\", \"price_doc\", \"val\", \"id\"],1).values\n",
    "dX = xgb.DMatrix(X, feature_names=df.columns)"
   ]
  },
  {
   "cell_type": "code",
   "execution_count": 138,
   "metadata": {
    "collapsed": false
   },
   "outputs": [
    {
     "ename": "XGBoostError",
     "evalue": "b'[20:44:21] src/metric/elementwise_metric.cc:27: Check failed: (info.labels.size()) != (0) label set cannot be empty'",
     "output_type": "error",
     "traceback": [
      "\u001b[0;31m---------------------------------------------------------------------------\u001b[0m",
      "\u001b[0;31mXGBoostError\u001b[0m                              Traceback (most recent call last)",
      "\u001b[0;32m<ipython-input-138-feda8feb1938>\u001b[0m in \u001b[0;36m<module>\u001b[0;34m()\u001b[0m\n\u001b[1;32m      1\u001b[0m model = xgb.train(xgb_params, dtrain, num_boost_round=600, evals=evallist,\n\u001b[0;32m----> 2\u001b[0;31m                        early_stopping_rounds=20, verbose_eval=20)\n\u001b[0m",
      "\u001b[0;32m/Users/daber/anaconda/lib/python3.6/site-packages/xgboost/training.py\u001b[0m in \u001b[0;36mtrain\u001b[0;34m(params, dtrain, num_boost_round, evals, obj, feval, maximize, early_stopping_rounds, evals_result, verbose_eval, learning_rates, xgb_model, callbacks)\u001b[0m\n\u001b[1;32m    203\u001b[0m                            \u001b[0mevals\u001b[0m\u001b[0;34m=\u001b[0m\u001b[0mevals\u001b[0m\u001b[0;34m,\u001b[0m\u001b[0;34m\u001b[0m\u001b[0m\n\u001b[1;32m    204\u001b[0m                            \u001b[0mobj\u001b[0m\u001b[0;34m=\u001b[0m\u001b[0mobj\u001b[0m\u001b[0;34m,\u001b[0m \u001b[0mfeval\u001b[0m\u001b[0;34m=\u001b[0m\u001b[0mfeval\u001b[0m\u001b[0;34m,\u001b[0m\u001b[0;34m\u001b[0m\u001b[0m\n\u001b[0;32m--> 205\u001b[0;31m                            xgb_model=xgb_model, callbacks=callbacks)\n\u001b[0m\u001b[1;32m    206\u001b[0m \u001b[0;34m\u001b[0m\u001b[0m\n\u001b[1;32m    207\u001b[0m \u001b[0;34m\u001b[0m\u001b[0m\n",
      "\u001b[0;32m/Users/daber/anaconda/lib/python3.6/site-packages/xgboost/training.py\u001b[0m in \u001b[0;36m_train_internal\u001b[0;34m(params, dtrain, num_boost_round, evals, obj, feval, xgb_model, callbacks)\u001b[0m\n\u001b[1;32m     84\u001b[0m         \u001b[0;31m# check evaluation result.\u001b[0m\u001b[0;34m\u001b[0m\u001b[0;34m\u001b[0m\u001b[0m\n\u001b[1;32m     85\u001b[0m         \u001b[0;32mif\u001b[0m \u001b[0mlen\u001b[0m\u001b[0;34m(\u001b[0m\u001b[0mevals\u001b[0m\u001b[0;34m)\u001b[0m \u001b[0;34m!=\u001b[0m \u001b[0;36m0\u001b[0m\u001b[0;34m:\u001b[0m\u001b[0;34m\u001b[0m\u001b[0m\n\u001b[0;32m---> 86\u001b[0;31m             \u001b[0mbst_eval_set\u001b[0m \u001b[0;34m=\u001b[0m \u001b[0mbst\u001b[0m\u001b[0;34m.\u001b[0m\u001b[0meval_set\u001b[0m\u001b[0;34m(\u001b[0m\u001b[0mevals\u001b[0m\u001b[0;34m,\u001b[0m \u001b[0mi\u001b[0m\u001b[0;34m,\u001b[0m \u001b[0mfeval\u001b[0m\u001b[0;34m)\u001b[0m\u001b[0;34m\u001b[0m\u001b[0m\n\u001b[0m\u001b[1;32m     87\u001b[0m             \u001b[0;32mif\u001b[0m \u001b[0misinstance\u001b[0m\u001b[0;34m(\u001b[0m\u001b[0mbst_eval_set\u001b[0m\u001b[0;34m,\u001b[0m \u001b[0mSTRING_TYPES\u001b[0m\u001b[0;34m)\u001b[0m\u001b[0;34m:\u001b[0m\u001b[0;34m\u001b[0m\u001b[0m\n\u001b[1;32m     88\u001b[0m                 \u001b[0mmsg\u001b[0m \u001b[0;34m=\u001b[0m \u001b[0mbst_eval_set\u001b[0m\u001b[0;34m\u001b[0m\u001b[0m\n",
      "\u001b[0;32m/Users/daber/anaconda/lib/python3.6/site-packages/xgboost/core.py\u001b[0m in \u001b[0;36meval_set\u001b[0;34m(self, evals, iteration, feval)\u001b[0m\n\u001b[1;32m    865\u001b[0m             _check_call(_LIB.XGBoosterEvalOneIter(self.handle, iteration,\n\u001b[1;32m    866\u001b[0m                                                   \u001b[0mdmats\u001b[0m\u001b[0;34m,\u001b[0m \u001b[0mevnames\u001b[0m\u001b[0;34m,\u001b[0m \u001b[0mlen\u001b[0m\u001b[0;34m(\u001b[0m\u001b[0mevals\u001b[0m\u001b[0;34m)\u001b[0m\u001b[0;34m,\u001b[0m\u001b[0;34m\u001b[0m\u001b[0m\n\u001b[0;32m--> 867\u001b[0;31m                                                   ctypes.byref(msg)))\n\u001b[0m\u001b[1;32m    868\u001b[0m             \u001b[0;32mreturn\u001b[0m \u001b[0mmsg\u001b[0m\u001b[0;34m.\u001b[0m\u001b[0mvalue\u001b[0m\u001b[0;34m\u001b[0m\u001b[0m\n\u001b[1;32m    869\u001b[0m         \u001b[0;32melse\u001b[0m\u001b[0;34m:\u001b[0m\u001b[0;34m\u001b[0m\u001b[0m\n",
      "\u001b[0;32m/Users/daber/anaconda/lib/python3.6/site-packages/xgboost/core.py\u001b[0m in \u001b[0;36m_check_call\u001b[0;34m(ret)\u001b[0m\n\u001b[1;32m    125\u001b[0m     \"\"\"\n\u001b[1;32m    126\u001b[0m     \u001b[0;32mif\u001b[0m \u001b[0mret\u001b[0m \u001b[0;34m!=\u001b[0m \u001b[0;36m0\u001b[0m\u001b[0;34m:\u001b[0m\u001b[0;34m\u001b[0m\u001b[0m\n\u001b[0;32m--> 127\u001b[0;31m         \u001b[0;32mraise\u001b[0m \u001b[0mXGBoostError\u001b[0m\u001b[0;34m(\u001b[0m\u001b[0m_LIB\u001b[0m\u001b[0;34m.\u001b[0m\u001b[0mXGBGetLastError\u001b[0m\u001b[0;34m(\u001b[0m\u001b[0;34m)\u001b[0m\u001b[0;34m)\u001b[0m\u001b[0;34m\u001b[0m\u001b[0m\n\u001b[0m\u001b[1;32m    128\u001b[0m \u001b[0;34m\u001b[0m\u001b[0m\n\u001b[1;32m    129\u001b[0m \u001b[0;34m\u001b[0m\u001b[0m\n",
      "\u001b[0;31mXGBoostError\u001b[0m: b'[20:44:21] src/metric/elementwise_metric.cc:27: Check failed: (info.labels.size()) != (0) label set cannot be empty'"
     ]
    }
   ],
   "source": [
    "model = xgb.train(xgb_params, dtrain, num_boost_round=600, evals=evallist,\n",
    "                       early_stopping_rounds=20, verbose_eval=20)"
   ]
  },
  {
   "cell_type": "code",
   "execution_count": 23,
   "metadata": {
    "collapsed": false
   },
   "outputs": [],
   "source": [
    "preds = partial_model.predict(dX)\n",
    "#preds = np.exp(preds) - 1\n",
    "preds = X[:,0] * preds"
   ]
  },
  {
   "cell_type": "code",
   "execution_count": 24,
   "metadata": {
    "collapsed": false
   },
   "outputs": [
    {
     "data": {
      "text/plain": [
       "array([ 4732016.2875  ,  6198718.09375 ,  8233356.54375 , ...,\n",
       "        3601210.809375,  3510171.5     ,  3167907.925   ])"
      ]
     },
     "execution_count": 24,
     "metadata": {},
     "output_type": "execute_result"
    }
   ],
   "source": [
    "preds"
   ]
  },
  {
   "cell_type": "code",
   "execution_count": 25,
   "metadata": {
    "collapsed": false
   },
   "outputs": [
    {
     "name": "stderr",
     "output_type": "stream",
     "text": [
      "/Users/daber/anaconda/lib/python3.6/site-packages/ipykernel/__main__.py:2: FutureWarning: sort(columns=....) is deprecated, use sort_values(by=.....)\n",
      "  from ipykernel import kernelapp as app\n"
     ]
    }
   ],
   "source": [
    "output = pd.DataFrame({\"id\": ids, \"price_doc\": preds})\n",
    "output.sort(columns=\"id\", inplace=True)\n",
    "output.to_csv(\"~/Projects/Sberbank/output.csv\", index=False)"
   ]
  },
  {
   "cell_type": "code",
   "execution_count": 26,
   "metadata": {
    "collapsed": false
   },
   "outputs": [
    {
     "data": {
      "text/html": [
       "<div>\n",
       "<table border=\"1\" class=\"dataframe\">\n",
       "  <thead>\n",
       "    <tr style=\"text-align: right;\">\n",
       "      <th></th>\n",
       "      <th>id</th>\n",
       "      <th>price_doc</th>\n",
       "    </tr>\n",
       "  </thead>\n",
       "  <tbody>\n",
       "    <tr>\n",
       "      <th>2352</th>\n",
       "      <td>30474</td>\n",
       "      <td>5.566067e+06</td>\n",
       "    </tr>\n",
       "    <tr>\n",
       "      <th>6955</th>\n",
       "      <td>30475</td>\n",
       "      <td>8.900213e+06</td>\n",
       "    </tr>\n",
       "    <tr>\n",
       "      <th>4547</th>\n",
       "      <td>30476</td>\n",
       "      <td>5.305146e+06</td>\n",
       "    </tr>\n",
       "    <tr>\n",
       "      <th>6780</th>\n",
       "      <td>30477</td>\n",
       "      <td>6.235935e+06</td>\n",
       "    </tr>\n",
       "    <tr>\n",
       "      <th>6956</th>\n",
       "      <td>30478</td>\n",
       "      <td>5.155275e+06</td>\n",
       "    </tr>\n",
       "  </tbody>\n",
       "</table>\n",
       "</div>"
      ],
      "text/plain": [
       "         id     price_doc\n",
       "2352  30474  5.566067e+06\n",
       "6955  30475  8.900213e+06\n",
       "4547  30476  5.305146e+06\n",
       "6780  30477  6.235935e+06\n",
       "6956  30478  5.155275e+06"
      ]
     },
     "execution_count": 26,
     "metadata": {},
     "output_type": "execute_result"
    }
   ],
   "source": [
    "output.head()"
   ]
  },
  {
   "cell_type": "code",
   "execution_count": 116,
   "metadata": {
    "collapsed": false
   },
   "outputs": [
    {
     "data": {
      "text/plain": [
       "30474    Poselenie Voskresenskoe\n",
       "Name: sub_area, dtype: object"
      ]
     },
     "execution_count": 116,
     "metadata": {},
     "output_type": "execute_result"
    }
   ],
   "source": [
    "data_init[data_init.id == 30477].sub_area"
   ]
  },
  {
   "cell_type": "code",
   "execution_count": null,
   "metadata": {
    "collapsed": false
   },
   "outputs": [],
   "source": []
  },
  {
   "cell_type": "code",
   "execution_count": null,
   "metadata": {
    "collapsed": true
   },
   "outputs": [],
   "source": []
  },
  {
   "cell_type": "code",
   "execution_count": 63,
   "metadata": {
    "collapsed": false
   },
   "outputs": [],
   "source": [
    "bind = data[data.price_m == 0].index"
   ]
  },
  {
   "cell_type": "code",
   "execution_count": 64,
   "metadata": {
    "collapsed": false
   },
   "outputs": [],
   "source": [
    "dval = xgb.DMatrix(df.loc[bind].values, feature_names=df.columns)\n",
    "preds = partial_model.predict(dval)"
   ]
  },
  {
   "cell_type": "code",
   "execution_count": 65,
   "metadata": {
    "collapsed": false
   },
   "outputs": [],
   "source": [
    "preds = df.loc[bind].values[:,0] * preds"
   ]
  },
  {
   "cell_type": "code",
   "execution_count": 67,
   "metadata": {
    "collapsed": false
   },
   "outputs": [
    {
     "data": {
      "text/plain": [
       "array([ 5752303.05     ,  7030286.7578125,  9209402.1140625, ...,\n",
       "        8088225.1875   ,  6081200.321875 ,  3698749.275    ])"
      ]
     },
     "execution_count": 67,
     "metadata": {},
     "output_type": "execute_result"
    }
   ],
   "source": [
    "preds"
   ]
  },
  {
   "cell_type": "code",
   "execution_count": null,
   "metadata": {
    "collapsed": true
   },
   "outputs": [],
   "source": []
  },
  {
   "cell_type": "code",
   "execution_count": null,
   "metadata": {
    "collapsed": true
   },
   "outputs": [],
   "source": []
  },
  {
   "cell_type": "code",
   "execution_count": 68,
   "metadata": {
    "collapsed": false
   },
   "outputs": [
    {
     "data": {
      "text/plain": [
       "[('full_sq', 889),\n",
       " ('floor', 449),\n",
       " ('life_sq', 435),\n",
       " ('max_floor', 335),\n",
       " ('month', 296),\n",
       " ('build_year', 290),\n",
       " ('Unnamed: 293', 233),\n",
       " ('av', 199),\n",
       " ('kitch_sq', 195),\n",
       " ('expl', 163),\n",
       " ('pv', 148),\n",
       " ('state', 142),\n",
       " ('num_room', 115),\n",
       " ('water_km', 110),\n",
       " ('workplaces_km', 106),\n",
       " ('kindergarten_km', 104),\n",
       " ('railroad_km', 103),\n",
       " ('material', 92),\n",
       " ('sadovoe_km', 91),\n",
       " ('metro_min_avto', 90),\n",
       " ('big_road1_km', 85),\n",
       " ('park_km', 84),\n",
       " ('radiation_km', 79),\n",
       " ('public_transport_station_km', 79),\n",
       " ('metro_km_avto', 78),\n",
       " ('area_m', 78),\n",
       " ('metro_km_walk', 77),\n",
       " ('university_km', 75),\n",
       " ('power_transmission_line_km', 75),\n",
       " ('school_km', 72),\n",
       " ('railroad_station_avto_km', 71),\n",
       " ('ttk_km', 69),\n",
       " ('catering_km', 67),\n",
       " ('swim_pool_km', 66),\n",
       " ('public_healthcare_km', 65),\n",
       " ('nuclear_reactor_km', 64),\n",
       " ('theater_km', 64),\n",
       " ('zd_vokzaly_avto_km', 63),\n",
       " ('fitness_km', 62),\n",
       " ('shopping_centers_km', 62),\n",
       " ('green_part_500', 62),\n",
       " ('preschool_km', 61),\n",
       " ('hospital_beds_raion', 58),\n",
       " ('ice_rink_km', 58),\n",
       " ('prom_part_3000', 58),\n",
       " ('industrial_km', 57),\n",
       " ('green_part_5000', 57),\n",
       " ('church_synagogue_km', 57),\n",
       " ('green_zone_km', 54),\n",
       " ('hospice_morgue_km', 53),\n",
       " ('office_km', 51),\n",
       " ('mkad_km', 51),\n",
       " ('thermal_power_plant_km', 49),\n",
       " ('ts_km', 49),\n",
       " ('product_type', 48),\n",
       " ('prom_part_5000', 48),\n",
       " ('big_church_km', 48),\n",
       " ('indust_part', 48),\n",
       " ('additional_education_km', 47),\n",
       " ('cemetery_km', 47),\n",
       " ('mosque_km', 47),\n",
       " ('oil_chemistry_km', 46),\n",
       " ('stadium_km', 46),\n",
       " ('year', 46),\n",
       " ('basketball_km', 46),\n",
       " ('cafe_sum_1000_min_price_avg', 45),\n",
       " ('green_zone_part', 44),\n",
       " ('green_part_1000', 42),\n",
       " ('museum_km', 42),\n",
       " ('cafe_sum_500_min_price_avg', 42),\n",
       " ('prom_part_500', 42),\n",
       " ('ID_metro', 42),\n",
       " ('cafe_sum_1500_min_price_avg', 41),\n",
       " ('water_treatment_km', 41),\n",
       " ('big_road2_km', 40),\n",
       " ('trc_sqm_5000', 38),\n",
       " ('big_market_km', 38),\n",
       " ('prom_part_1500', 37),\n",
       " ('prom_part_1000', 36),\n",
       " ('railroad_station_avto_min', 36),\n",
       " ('exhibition_km', 35),\n",
       " ('cafe_count_1000_price_1000', 35),\n",
       " ('railroad_station_walk_km', 34),\n",
       " ('raion_popul', 33),\n",
       " ('cafe_sum_500_max_price_avg', 33),\n",
       " ('office_sqm_3000', 32),\n",
       " ('detention_facility_km', 31),\n",
       " ('green_part_2000', 31),\n",
       " ('preschool_quota', 31),\n",
       " ('market_shop_km', 31),\n",
       " ('bulvar_ring_km', 31),\n",
       " ('cafe_sum_3000_min_price_avg', 30),\n",
       " ('green_part_3000', 29),\n",
       " ('office_sqm_5000', 29),\n",
       " ('cafe_sum_1000_max_price_avg', 29),\n",
       " ('sport_count_1500', 28),\n",
       " ('bus_terminal_avto_km', 28),\n",
       " ('office_sqm_500', 28),\n",
       " ('trc_sqm_1500', 27),\n",
       " ('office_sqm_1500', 27),\n",
       " ('school_quota', 26),\n",
       " ('office_sqm_1000', 26),\n",
       " ('green_part_1500', 26),\n",
       " ('trc_sqm_2000', 26),\n",
       " ('trc_sqm_1000', 26),\n",
       " ('build_count_1946-1970', 26),\n",
       " ('incineration_km', 25),\n",
       " ('build_count_block', 25),\n",
       " ('cafe_sum_5000_min_price_avg', 25),\n",
       " ('build_count_brick', 25),\n",
       " ('sport_objects_raion', 24),\n",
       " ('cafe_count_1000', 23),\n",
       " ('cafe_sum_1500_max_price_avg', 21),\n",
       " ('prom_part_2000', 20),\n",
       " ('office_sqm_2000', 20),\n",
       " ('cafe_count_5000', 20),\n",
       " ('cafe_count_1500', 20),\n",
       " ('cafe_count_1000_na_price', 20),\n",
       " ('shopping_centers_raion', 19),\n",
       " ('cafe_count_5000_price_2500', 19),\n",
       " ('cafe_sum_2000_min_price_avg', 18),\n",
       " ('cafe_count_1500_price_2500', 18),\n",
       " ('cafe_count_2000_price_1000', 18),\n",
       " ('ID_railroad_station_avto', 18),\n",
       " ('build_count_after_1995', 18),\n",
       " ('trc_sqm_3000', 18),\n",
       " ('ID_railroad_station_walk', 17),\n",
       " ('cafe_count_2000_price_500', 17),\n",
       " ('cafe_count_3000', 16),\n",
       " ('full_all', 16),\n",
       " ('cafe_count_5000_price_4000', 16),\n",
       " ('market_count_1000', 16),\n",
       " ('healthcare_centers_raion', 16),\n",
       " ('build_count_monolith', 16),\n",
       " ('cafe_sum_3000_max_price_avg', 15),\n",
       " ('trc_sqm_500', 15),\n",
       " ('cafe_count_1500_price_1000', 15),\n",
       " ('office_count_5000', 15),\n",
       " ('trc_count_1500', 15),\n",
       " ('sport_count_3000', 14),\n",
       " ('cafe_count_500_price_500', 14),\n",
       " ('office_count_1000', 14),\n",
       " ('sport_count_5000', 14),\n",
       " ('cafe_count_3000_price_1000', 14),\n",
       " ('cafe_count_1500_price_4000', 13),\n",
       " ('cafe_count_3000_price_500', 13),\n",
       " ('cafe_count_1500_price_500', 13),\n",
       " ('sport_count_1000', 13),\n",
       " ('cafe_count_2000', 13),\n",
       " ('kremlin_km', 13),\n",
       " ('sport_count_2000', 13),\n",
       " ('cafe_avg_price_1500', 13),\n",
       " ('cafe_count_500_price_1500', 13),\n",
       " ('cafe_count_3000_na_price', 12),\n",
       " ('build_count_panel', 12),\n",
       " ('cafe_count_1500_price_1500', 12),\n",
       " ('cafe_count_1000_price_2500', 12),\n",
       " ('office_raion', 12),\n",
       " ('cafe_count_3000_price_1500', 12),\n",
       " ('cafe_avg_price_500', 12),\n",
       " ('cafe_sum_5000_max_price_avg', 11),\n",
       " ('cafe_count_2000_price_4000', 11),\n",
       " ('trc_count_1000', 11),\n",
       " ('office_count_1500', 11),\n",
       " ('trc_count_5000', 11),\n",
       " ('cafe_avg_price_2000', 11),\n",
       " ('cafe_count_500', 11),\n",
       " ('ID_big_road1', 11),\n",
       " ('church_count_3000', 10),\n",
       " ('church_count_5000', 10),\n",
       " ('build_count_1971-1995', 10),\n",
       " ('office_count_500', 10),\n",
       " ('cafe_count_5000_na_price', 10),\n",
       " ('leisure_count_500', 10),\n",
       " ('big_church_count_3000', 10),\n",
       " ('office_count_2000', 10),\n",
       " ('church_count_2000', 10),\n",
       " ('ID_big_road2', 10),\n",
       " ('cafe_count_5000_price_1500', 9),\n",
       " ('raion_build_count_with_material_info', 9),\n",
       " ('cafe_sum_2000_max_price_avg', 9),\n",
       " ('cafe_count_1000_price_500', 9),\n",
       " ('cafe_count_2000_price_1500', 9),\n",
       " ('build_count_1921-1945', 9),\n",
       " ('cafe_count_500_price_1000', 9),\n",
       " ('cafe_avg_price_1000', 9),\n",
       " ('cafe_count_500_price_2500', 9),\n",
       " ('build_count_slag', 9),\n",
       " ('cafe_count_500_na_price', 9),\n",
       " ('build_count_frame', 9),\n",
       " ('office_count_3000', 9),\n",
       " ('cafe_avg_price_3000', 8),\n",
       " ('cafe_count_2000_price_2500', 8),\n",
       " ('sport_count_500', 8),\n",
       " ('cafe_count_1000_price_1500', 8),\n",
       " ('church_count_1000', 8),\n",
       " ('leisure_count_1500', 8),\n",
       " ('public_transport_station_min_walk', 8),\n",
       " ('trc_count_2000', 8),\n",
       " ('cafe_count_2000_na_price', 7),\n",
       " ('leisure_count_3000', 7),\n",
       " ('church_count_1500', 7),\n",
       " ('cafe_count_1000_price_high', 7),\n",
       " ('church_count_500', 7),\n",
       " ('railroad_station_walk_min', 7),\n",
       " ('cafe_count_5000_price_500', 7),\n",
       " ('cafe_count_3000_price_4000', 7),\n",
       " ('market_count_1500', 7),\n",
       " ('trc_count_3000', 7),\n",
       " ('ecology', 7),\n",
       " ('school_education_centers_raion', 7),\n",
       " ('market_count_5000', 6),\n",
       " ('cafe_count_5000_price_high', 6),\n",
       " ('cafe_count_3000_price_2500', 6),\n",
       " ('cafe_avg_price_5000', 6),\n",
       " ('ekder_male', 6),\n",
       " ('preschool_education_centers_raion', 6),\n",
       " ('additional_education_raion', 6),\n",
       " ('cafe_count_5000_price_1000', 5),\n",
       " ('cafe_count_1500_price_high', 5),\n",
       " ('ekder_all', 5),\n",
       " ('cafe_count_1500_na_price', 5),\n",
       " ('build_count_wood', 5),\n",
       " ('cafe_count_1000_price_4000', 5),\n",
       " ('work_all', 5),\n",
       " ('16_29_all', 4),\n",
       " ('big_road1_1line', 4),\n",
       " ('cafe_count_3000_price_high', 4),\n",
       " ('young_male', 4),\n",
       " ('mosque_count_5000', 4),\n",
       " ('big_church_count_2000', 4),\n",
       " ('big_church_count_5000', 4),\n",
       " ('cafe_count_2000_price_high', 3),\n",
       " ('trc_count_500', 3),\n",
       " ('ID_railroad_terminal', 3),\n",
       " ('leisure_count_1000', 3),\n",
       " ('build_count_foam', 3),\n",
       " ('16_29_male', 3),\n",
       " ('big_church_count_1000', 3),\n",
       " ('raion_build_count_with_builddate_info', 3),\n",
       " ('leisure_count_2000', 3),\n",
       " ('market_count_2000', 3),\n",
       " ('market_count_3000', 3),\n",
       " ('school_education_centers_top_20_raion', 3),\n",
       " ('university_top_20_raion', 3),\n",
       " ('young_all', 3),\n",
       " ('female_f', 3),\n",
       " ('leisure_count_5000', 2),\n",
       " ('railroad_1line', 2),\n",
       " ('big_church_count_1500', 2),\n",
       " ('work_female', 2),\n",
       " ('0_6_male', 2),\n",
       " ('build_count_mix', 2),\n",
       " ('male_f', 2),\n",
       " ('young_female', 2),\n",
       " ('7_14_female', 2),\n",
       " ('0_6_female', 2),\n",
       " ('work_male', 2),\n",
       " ('culture_objects_top_25', 1),\n",
       " ('big_market_raion', 1),\n",
       " ('0_13_male', 1),\n",
       " ('ekder_female', 1),\n",
       " ('ID_bus_terminal', 1),\n",
       " ('build_count_before_1920', 1),\n",
       " ('7_14_male', 1),\n",
       " ('culture_objects_top_25_raion', 1),\n",
       " ('0_17_female', 1),\n",
       " ('market_count_500', 1),\n",
       " ('cafe_count_500_price_4000', 1)]"
      ]
     },
     "execution_count": 68,
     "metadata": {},
     "output_type": "execute_result"
    }
   ],
   "source": [
    "res = list(partial_model.get_fscore().items())\n",
    "res.sort(key=lambda x: x[1], reverse=True)\n",
    "res"
   ]
  },
  {
   "cell_type": "code",
   "execution_count": null,
   "metadata": {
    "collapsed": true
   },
   "outputs": [],
   "source": []
  },
  {
   "cell_type": "code",
   "execution_count": null,
   "metadata": {
    "collapsed": true
   },
   "outputs": [],
   "source": []
  },
  {
   "cell_type": "code",
   "execution_count": 401,
   "metadata": {
    "collapsed": false
   },
   "outputs": [],
   "source": []
  },
  {
   "cell_type": "code",
   "execution_count": 402,
   "metadata": {
    "collapsed": true
   },
   "outputs": [],
   "source": []
  },
  {
   "cell_type": "code",
   "execution_count": 405,
   "metadata": {
    "collapsed": true
   },
   "outputs": [],
   "source": []
  },
  {
   "cell_type": "code",
   "execution_count": 89,
   "metadata": {
    "collapsed": false
   },
   "outputs": [],
   "source": [
    "def my_corr(col):\n",
    "    cf = pd.DataFrame()\n",
    "    cf[\"sub_area\"] = np.unique(data.sub_area.values)\n",
    "    cf[\"av_p\"] = [data[(data.price_doc != 0)&(data.sub_area == r)].price_m.mean() for r in\n",
    "              avp.sub_area.values]\n",
    "    cf[\"col\"] = [data[data.sub_area == r].ix[:,col].mean() for r in avp.sub_area.values]\n",
    "    return np.corrcoef(cf.av_p.values, cf.col.values)[0][1]"
   ]
  },
  {
   "cell_type": "code",
   "execution_count": 90,
   "metadata": {
    "collapsed": false
   },
   "outputs": [
    {
     "data": {
      "text/plain": [
       "0.15722260583610279"
      ]
     },
     "execution_count": 90,
     "metadata": {},
     "output_type": "execute_result"
    }
   ],
   "source": [
    "my_corr(\"7_14_all\")"
   ]
  },
  {
   "cell_type": "code",
   "execution_count": 520,
   "metadata": {
    "collapsed": false
   },
   "outputs": [
    {
     "data": {
      "text/plain": [
       "0.07761634908481684"
      ]
     },
     "execution_count": 520,
     "metadata": {},
     "output_type": "execute_result"
    }
   ],
   "source": [
    "data[data.big_road1_1line==\"yes\"].big_road1_km.mean()"
   ]
  },
  {
   "cell_type": "code",
   "execution_count": 728,
   "metadata": {
    "collapsed": false
   },
   "outputs": [
    {
     "data": {
      "text/plain": [
       "0.99831237852755328"
      ]
     },
     "execution_count": 728,
     "metadata": {},
     "output_type": "execute_result"
    }
   ],
   "source": [
    "np.corrcoef(data[\"7_14_all\"].fillna(0), data[\"7_14_female\"].fillna(0))[0][1]"
   ]
  },
  {
   "cell_type": "code",
   "execution_count": 194,
   "metadata": {
    "collapsed": true
   },
   "outputs": [],
   "source": [
    "a = np.unique(data.sub_area.values)"
   ]
  },
  {
   "cell_type": "code",
   "execution_count": 286,
   "metadata": {
    "collapsed": false
   },
   "outputs": [
    {
     "data": {
      "text/plain": [
       "'Kuncevo'"
      ]
     },
     "execution_count": 286,
     "metadata": {},
     "output_type": "execute_result"
    }
   ],
   "source": [
    "a[50]"
   ]
  },
  {
   "cell_type": "code",
   "execution_count": null,
   "metadata": {
    "collapsed": true
   },
   "outputs": [],
   "source": []
  },
  {
   "cell_type": "code",
   "execution_count": 410,
   "metadata": {
    "collapsed": false
   },
   "outputs": [],
   "source": []
  },
  {
   "cell_type": "code",
   "execution_count": 411,
   "metadata": {
    "collapsed": true
   },
   "outputs": [],
   "source": []
  },
  {
   "cell_type": "code",
   "execution_count": 412,
   "metadata": {
    "collapsed": false
   },
   "outputs": [],
   "source": []
  },
  {
   "cell_type": "code",
   "execution_count": 413,
   "metadata": {
    "collapsed": false
   },
   "outputs": [],
   "source": []
  },
  {
   "cell_type": "code",
   "execution_count": null,
   "metadata": {
    "collapsed": true
   },
   "outputs": [],
   "source": [
    "df[\"test_feature\"] = df.raion_popul / df.area_m"
   ]
  },
  {
   "cell_type": "code",
   "execution_count": 414,
   "metadata": {
    "collapsed": false
   },
   "outputs": [],
   "source": []
  },
  {
   "cell_type": "code",
   "execution_count": 415,
   "metadata": {
    "collapsed": false
   },
   "outputs": [
    {
     "data": {
      "text/html": [
       "<div>\n",
       "<table border=\"1\" class=\"dataframe\">\n",
       "  <thead>\n",
       "    <tr style=\"text-align: right;\">\n",
       "      <th></th>\n",
       "      <th>full_sq</th>\n",
       "      <th>life_sq</th>\n",
       "      <th>floor</th>\n",
       "      <th>max_floor</th>\n",
       "      <th>material</th>\n",
       "      <th>build_year</th>\n",
       "      <th>num_room</th>\n",
       "      <th>kitch_sq</th>\n",
       "      <th>state</th>\n",
       "      <th>product_type</th>\n",
       "      <th>...</th>\n",
       "      <th>church_count_5000</th>\n",
       "      <th>mosque_count_5000</th>\n",
       "      <th>leisure_count_5000</th>\n",
       "      <th>sport_count_5000</th>\n",
       "      <th>market_count_5000</th>\n",
       "      <th>price_doc</th>\n",
       "      <th>price_m</th>\n",
       "      <th>av</th>\n",
       "      <th>pv</th>\n",
       "      <th>expl</th>\n",
       "    </tr>\n",
       "  </thead>\n",
       "  <tbody>\n",
       "    <tr>\n",
       "      <th>35488</th>\n",
       "      <td>50.8</td>\n",
       "      <td>34.0</td>\n",
       "      <td>6.0</td>\n",
       "      <td>9.0</td>\n",
       "      <td>1.0</td>\n",
       "      <td>1977.0</td>\n",
       "      <td>3.0</td>\n",
       "      <td>6.1</td>\n",
       "      <td>2.0</td>\n",
       "      <td>Investment</td>\n",
       "      <td>...</td>\n",
       "      <td>1</td>\n",
       "      <td>0</td>\n",
       "      <td>0</td>\n",
       "      <td>0</td>\n",
       "      <td>0</td>\n",
       "      <td>0</td>\n",
       "      <td>0.000000</td>\n",
       "      <td>194749.307692</td>\n",
       "      <td>NaN</td>\n",
       "      <td>39.0</td>\n",
       "    </tr>\n",
       "    <tr>\n",
       "      <th>35489</th>\n",
       "      <td>72.0</td>\n",
       "      <td>46.0</td>\n",
       "      <td>6.0</td>\n",
       "      <td>19.0</td>\n",
       "      <td>1.0</td>\n",
       "      <td>2013.0</td>\n",
       "      <td>3.0</td>\n",
       "      <td>8.0</td>\n",
       "      <td>2.0</td>\n",
       "      <td>Investment</td>\n",
       "      <td>...</td>\n",
       "      <td>1</td>\n",
       "      <td>0</td>\n",
       "      <td>0</td>\n",
       "      <td>0</td>\n",
       "      <td>0</td>\n",
       "      <td>6000000</td>\n",
       "      <td>83333.333333</td>\n",
       "      <td>NaN</td>\n",
       "      <td>151804.558803</td>\n",
       "      <td>2.0</td>\n",
       "    </tr>\n",
       "    <tr>\n",
       "      <th>35490</th>\n",
       "      <td>73.4</td>\n",
       "      <td>44.2</td>\n",
       "      <td>15.0</td>\n",
       "      <td>25.0</td>\n",
       "      <td>1.0</td>\n",
       "      <td>2012.0</td>\n",
       "      <td>3.0</td>\n",
       "      <td>12.4</td>\n",
       "      <td>2.0</td>\n",
       "      <td>Investment</td>\n",
       "      <td>...</td>\n",
       "      <td>1</td>\n",
       "      <td>0</td>\n",
       "      <td>0</td>\n",
       "      <td>0</td>\n",
       "      <td>0</td>\n",
       "      <td>0</td>\n",
       "      <td>0.000000</td>\n",
       "      <td>83333.333333</td>\n",
       "      <td>NaN</td>\n",
       "      <td>3.0</td>\n",
       "    </tr>\n",
       "    <tr>\n",
       "      <th>35491</th>\n",
       "      <td>48.0</td>\n",
       "      <td>33.0</td>\n",
       "      <td>3.0</td>\n",
       "      <td>5.0</td>\n",
       "      <td>1.0</td>\n",
       "      <td>1977.0</td>\n",
       "      <td>2.0</td>\n",
       "      <td>5.0</td>\n",
       "      <td>3.0</td>\n",
       "      <td>Investment</td>\n",
       "      <td>...</td>\n",
       "      <td>2</td>\n",
       "      <td>0</td>\n",
       "      <td>0</td>\n",
       "      <td>0</td>\n",
       "      <td>0</td>\n",
       "      <td>3480000</td>\n",
       "      <td>72500.000000</td>\n",
       "      <td>NaN</td>\n",
       "      <td>149559.286339</td>\n",
       "      <td>37.0</td>\n",
       "    </tr>\n",
       "    <tr>\n",
       "      <th>35492</th>\n",
       "      <td>41.6</td>\n",
       "      <td>25.1</td>\n",
       "      <td>5.0</td>\n",
       "      <td>5.0</td>\n",
       "      <td>2.0</td>\n",
       "      <td>1964.0</td>\n",
       "      <td>2.0</td>\n",
       "      <td>5.4</td>\n",
       "      <td>3.0</td>\n",
       "      <td>Investment</td>\n",
       "      <td>...</td>\n",
       "      <td>4</td>\n",
       "      <td>0</td>\n",
       "      <td>0</td>\n",
       "      <td>0</td>\n",
       "      <td>0</td>\n",
       "      <td>0</td>\n",
       "      <td>0.000000</td>\n",
       "      <td>72500.000000</td>\n",
       "      <td>NaN</td>\n",
       "      <td>52.0</td>\n",
       "    </tr>\n",
       "  </tbody>\n",
       "</table>\n",
       "<p>5 rows × 280 columns</p>\n",
       "</div>"
      ],
      "text/plain": [
       "       full_sq  life_sq  floor  max_floor  material  build_year  num_room  \\\n",
       "35488     50.8     34.0    6.0        9.0       1.0      1977.0       3.0   \n",
       "35489     72.0     46.0    6.0       19.0       1.0      2013.0       3.0   \n",
       "35490     73.4     44.2   15.0       25.0       1.0      2012.0       3.0   \n",
       "35491     48.0     33.0    3.0        5.0       1.0      1977.0       2.0   \n",
       "35492     41.6     25.1    5.0        5.0       2.0      1964.0       2.0   \n",
       "\n",
       "       kitch_sq  state product_type  ...   church_count_5000  \\\n",
       "35488       6.1    2.0   Investment  ...                   1   \n",
       "35489       8.0    2.0   Investment  ...                   1   \n",
       "35490      12.4    2.0   Investment  ...                   1   \n",
       "35491       5.0    3.0   Investment  ...                   2   \n",
       "35492       5.4    3.0   Investment  ...                   4   \n",
       "\n",
       "       mosque_count_5000  leisure_count_5000  sport_count_5000  \\\n",
       "35488                  0                   0                 0   \n",
       "35489                  0                   0                 0   \n",
       "35490                  0                   0                 0   \n",
       "35491                  0                   0                 0   \n",
       "35492                  0                   0                 0   \n",
       "\n",
       "       market_count_5000  price_doc       price_m             av  \\\n",
       "35488                  0          0      0.000000  194749.307692   \n",
       "35489                  0    6000000  83333.333333            NaN   \n",
       "35490                  0          0      0.000000   83333.333333   \n",
       "35491                  0    3480000  72500.000000            NaN   \n",
       "35492                  0          0      0.000000   72500.000000   \n",
       "\n",
       "                  pv  expl  \n",
       "35488            NaN  39.0  \n",
       "35489  151804.558803   2.0  \n",
       "35490            NaN   3.0  \n",
       "35491  149559.286339  37.0  \n",
       "35492            NaN  52.0  \n",
       "\n",
       "[5 rows x 280 columns]"
      ]
     },
     "execution_count": 415,
     "metadata": {},
     "output_type": "execute_result"
    }
   ],
   "source": [
    "data.tail()"
   ]
  },
  {
   "cell_type": "code",
   "execution_count": 416,
   "metadata": {
    "collapsed": false
   },
   "outputs": [],
   "source": []
  },
  {
   "cell_type": "code",
   "execution_count": 417,
   "metadata": {
    "collapsed": false
   },
   "outputs": [],
   "source": []
  },
  {
   "cell_type": "code",
   "execution_count": 418,
   "metadata": {
    "collapsed": false
   },
   "outputs": [],
   "source": [
    "\n"
   ]
  },
  {
   "cell_type": "code",
   "execution_count": null,
   "metadata": {
    "collapsed": true
   },
   "outputs": [],
   "source": []
  },
  {
   "cell_type": "code",
   "execution_count": 171,
   "metadata": {
    "collapsed": false
   },
   "outputs": [
    {
     "data": {
      "text/plain": [
       "[('full_sq', 1061),\n",
       " ('life_sq', 533),\n",
       " ('floor', 521),\n",
       " ('max_floor', 459),\n",
       " ('build_year', 451),\n",
       " ('hp', 416),\n",
       " ('kitch_sq', 258),\n",
       " ('expl', 227),\n",
       " ('state', 183),\n",
       " ('num_room', 132),\n",
       " ('workplaces_km', 130),\n",
       " ('material', 129),\n",
       " ('metro_min_avto', 129),\n",
       " ('metro_km_avto', 105),\n",
       " ('university_km', 105),\n",
       " ('green_zone_km', 105),\n",
       " ('kindergarten_km', 103),\n",
       " ('park_km', 103),\n",
       " ('public_transport_station_km', 101),\n",
       " ('railroad_km', 99),\n",
       " ('power_transmission_line_km', 99),\n",
       " ('industrial_km', 99),\n",
       " ('school_km', 97),\n",
       " ('water_km', 93),\n",
       " ('railroad_station_walk_km', 92),\n",
       " ('metro_km_walk', 90),\n",
       " ('public_healthcare_km', 85),\n",
       " ('prom_part_5000', 85),\n",
       " ('nuclear_reactor_km', 83),\n",
       " ('big_church_km', 80),\n",
       " ('sub_area', 80),\n",
       " ('catering_km', 79),\n",
       " ('stadium_km', 79),\n",
       " ('preschool_km', 78),\n",
       " ('additional_education_km', 77),\n",
       " ('ts_km', 77),\n",
       " ('cemetery_km', 76),\n",
       " ('radiation_km', 76),\n",
       " ('green_part_1500', 73),\n",
       " ('church_synagogue_km', 72),\n",
       " ('theater_km', 72),\n",
       " ('oil_chemistry_km', 71),\n",
       " ('market_shop_km', 71),\n",
       " ('green_part_5000', 70),\n",
       " ('big_road1_km', 70),\n",
       " ('hospice_morgue_km', 70),\n",
       " ('green_part_1000', 68),\n",
       " ('zd_vokzaly_avto_km', 67),\n",
       " ('ID_metro', 67),\n",
       " ('hospital_beds_raion', 66),\n",
       " ('big_road2_km', 66),\n",
       " ('ttk_km', 65),\n",
       " ('office_km', 63),\n",
       " ('shopping_centers_km', 62),\n",
       " ('thermal_power_plant_km', 62),\n",
       " ('fitness_km', 62),\n",
       " ('cafe_sum_500_min_price_avg', 60),\n",
       " ('big_market_km', 60),\n",
       " ('exhibition_km', 60),\n",
       " ('museum_km', 59),\n",
       " ('mosque_km', 58),\n",
       " ('water_treatment_km', 58),\n",
       " ('cafe_sum_5000_min_price_avg', 58),\n",
       " ('prom_part_3000', 57),\n",
       " ('green_part_500', 56),\n",
       " ('area_m', 55),\n",
       " ('incineration_km', 54),\n",
       " ('preschool_quota', 54),\n",
       " ('basketball_km', 54),\n",
       " ('trc_sqm_2000', 54),\n",
       " ('indust_part', 54),\n",
       " ('school_quota', 54),\n",
       " ('ice_rink_km', 53),\n",
       " ('prom_part_2000', 52),\n",
       " ('cafe_sum_1000_min_price_avg', 51),\n",
       " ('railroad_station_avto_km', 50),\n",
       " ('detention_facility_km', 50),\n",
       " ('bus_terminal_avto_km', 49),\n",
       " ('sport_count_1500', 47),\n",
       " ('cafe_sum_5000_max_price_avg', 47),\n",
       " ('cafe_count_5000_price_2500', 46),\n",
       " ('product_type', 46),\n",
       " ('trc_sqm_1500', 46),\n",
       " ('green_zone_part', 46),\n",
       " ('railroad_station_avto_min', 46),\n",
       " ('sport_count_3000', 45),\n",
       " ('green_part_2000', 43),\n",
       " ('swim_pool_km', 43),\n",
       " ('trc_sqm_5000', 43),\n",
       " ('raion_popul', 42),\n",
       " ('cafe_count_5000', 40),\n",
       " ('mkad_km', 39),\n",
       " ('cafe_count_3000', 39),\n",
       " ('sadovoe_km', 39),\n",
       " ('prom_part_1000', 38),\n",
       " ('sport_count_1000', 38),\n",
       " ('cafe_sum_1500_min_price_avg', 37),\n",
       " ('cafe_sum_2000_max_price_avg', 36),\n",
       " ('ID_railroad_station_walk', 35),\n",
       " ('office_sqm_500', 35),\n",
       " ('cafe_avg_price_1000', 35),\n",
       " ('office_sqm_2000', 34),\n",
       " ('office_sqm_5000', 33),\n",
       " ('build_count_panel', 32),\n",
       " ('green_part_3000', 32),\n",
       " ('office_sqm_3000', 32),\n",
       " ('trc_count_5000', 32),\n",
       " ('build_count_monolith', 31),\n",
       " ('cafe_count_1500', 31),\n",
       " ('cafe_count_2000', 31),\n",
       " ('office_sqm_1500', 31),\n",
       " ('cafe_sum_1000_max_price_avg', 30),\n",
       " ('office_sqm_1000', 30),\n",
       " ('office_count_1000', 29),\n",
       " ('bulvar_ring_km', 29),\n",
       " ('build_count_after_1995', 28),\n",
       " ('cafe_count_1000_price_1000', 28),\n",
       " ('cafe_sum_500_max_price_avg', 28),\n",
       " ('build_count_block', 27),\n",
       " ('cafe_count_1500_price_500', 27),\n",
       " ('build_count_1946-1970', 27),\n",
       " ('prom_part_500', 27),\n",
       " ('trc_sqm_3000', 26),\n",
       " ('full_all', 26),\n",
       " ('build_count_brick', 25),\n",
       " ('cafe_sum_3000_min_price_avg', 25),\n",
       " ('cafe_count_1000', 25),\n",
       " ('cafe_count_2000_price_1000', 25),\n",
       " ('trc_sqm_1000', 24),\n",
       " ('cafe_count_1000_price_2500', 23),\n",
       " ('cafe_sum_1500_max_price_avg', 23),\n",
       " ('cafe_sum_3000_max_price_avg', 23),\n",
       " ('ID_big_road2', 23),\n",
       " ('public_transport_station_min_walk', 23),\n",
       " ('prom_part_1500', 23),\n",
       " ('cafe_avg_price_2000', 23),\n",
       " ('cafe_count_500', 22),\n",
       " ('cafe_count_3000_price_2500', 21),\n",
       " ('cafe_sum_2000_min_price_avg', 21),\n",
       " ('cafe_count_2000_price_500', 21),\n",
       " ('cafe_count_2000_price_2500', 20),\n",
       " ('trc_count_1000', 20),\n",
       " ('market_count_5000', 20),\n",
       " ('raion_build_count_with_material_info', 19),\n",
       " ('sport_count_5000', 19),\n",
       " ('ID_railroad_station_avto', 19),\n",
       " ('ID_big_road1', 19),\n",
       " ('cafe_avg_price_5000', 19),\n",
       " ('cafe_count_500_price_1500', 19),\n",
       " ('trc_count_3000', 18),\n",
       " ('cafe_count_1500_price_4000', 17),\n",
       " ('office_count_3000', 17),\n",
       " ('big_church_count_3000', 17),\n",
       " ('railroad_station_walk_min', 16),\n",
       " ('market_count_1000', 16),\n",
       " ('leisure_count_500', 16),\n",
       " ('cafe_count_5000_price_4000', 15),\n",
       " ('shopping_centers_raion', 15),\n",
       " ('trc_sqm_500', 15),\n",
       " ('cafe_count_500_price_4000', 14),\n",
       " ('cafe_count_1000_price_1500', 14),\n",
       " ('cafe_count_1500_price_2500', 14),\n",
       " ('healthcare_centers_raion', 14),\n",
       " ('church_count_3000', 13),\n",
       " ('office_count_500', 13),\n",
       " ('cafe_count_5000_price_1500', 13),\n",
       " ('church_count_1500', 13),\n",
       " ('sport_count_2000', 13),\n",
       " ('cafe_avg_price_500', 13),\n",
       " ('cafe_count_5000_price_high', 12),\n",
       " ('leisure_count_1500', 12),\n",
       " ('preschool_education_centers_raion', 12),\n",
       " ('cafe_count_1000_price_4000', 12),\n",
       " ('cafe_avg_price_3000', 12),\n",
       " ('cafe_count_3000_price_1000', 12),\n",
       " ('office_raion', 12),\n",
       " ('ecology', 12),\n",
       " ('work_all', 12),\n",
       " ('build_count_slag', 12),\n",
       " ('cafe_avg_price_1500', 12),\n",
       " ('female_f', 12),\n",
       " ('school_education_centers_raion', 11),\n",
       " ('trc_count_1500', 11),\n",
       " ('build_count_1971-1995', 11),\n",
       " ('male_f', 11),\n",
       " ('16_29_male', 11),\n",
       " ('cafe_count_500_price_1000', 11),\n",
       " ('office_count_1500', 11),\n",
       " ('office_count_5000', 11),\n",
       " ('cafe_count_3000_na_price', 10),\n",
       " ('cafe_count_2000_price_1500', 10),\n",
       " ('market_count_1500', 10),\n",
       " ('church_count_2000', 10),\n",
       " ('cafe_count_1000_price_500', 10),\n",
       " ('cafe_count_5000_price_500', 10),\n",
       " ('trc_count_2000', 10),\n",
       " ('sport_objects_raion', 10),\n",
       " ('cafe_count_5000_price_1000', 10),\n",
       " ('cafe_count_500_na_price', 10),\n",
       " ('cafe_count_3000_price_4000', 9),\n",
       " ('cafe_count_1500_price_1000', 9),\n",
       " ('cafe_count_2000_na_price', 9),\n",
       " ('additional_education_raion', 9),\n",
       " ('big_church_count_2000', 9),\n",
       " ('mosque_count_5000', 9),\n",
       " ('build_count_1921-1945', 9),\n",
       " ('market_count_3000', 9),\n",
       " ('church_count_5000', 8),\n",
       " ('kremlin_km', 8),\n",
       " ('ID_bus_terminal', 8),\n",
       " ('7_14_male', 8),\n",
       " ('cafe_count_3000_price_1500', 8),\n",
       " ('market_count_500', 8),\n",
       " ('cafe_count_1000_na_price', 8),\n",
       " ('raion_build_count_with_builddate_info', 8),\n",
       " ('cafe_count_3000_price_high', 7),\n",
       " ('build_count_frame', 7),\n",
       " ('cafe_count_5000_na_price', 7),\n",
       " ('market_count_2000', 7),\n",
       " ('young_all', 7),\n",
       " ('cafe_count_500_price_2500', 7),\n",
       " ('cafe_count_3000_price_500', 7),\n",
       " ('build_count_foam', 7),\n",
       " ('office_count_2000', 7),\n",
       " ('church_count_1000', 7),\n",
       " ('culture_objects_top_25', 6),\n",
       " ('leisure_count_5000', 6),\n",
       " ('build_count_before_1920', 6),\n",
       " ('big_market_raion', 6),\n",
       " ('7_14_female', 6),\n",
       " ('ekder_all', 6),\n",
       " ('leisure_count_3000', 5),\n",
       " ('cafe_count_2000_price_4000', 5),\n",
       " ('cafe_count_1500_price_1500', 5),\n",
       " ('cafe_count_1000_price_high', 5),\n",
       " ('build_count_wood', 5),\n",
       " ('cafe_count_500_price_500', 5),\n",
       " ('16_29_all', 5),\n",
       " ('cafe_count_1500_na_price', 5),\n",
       " ('sport_count_500', 5),\n",
       " ('school_education_centers_top_20_raion', 5),\n",
       " ('16_29_female', 5),\n",
       " ('big_road1_1line', 4),\n",
       " ('university_top_20_raion', 4),\n",
       " ('ID_railroad_terminal', 4),\n",
       " ('culture_objects_top_25_raion', 3),\n",
       " ('railroad_1line', 3),\n",
       " ('big_church_count_1000', 3),\n",
       " ('big_church_count_1500', 3),\n",
       " ('big_church_count_5000', 3),\n",
       " ('trc_count_500', 3),\n",
       " ('cafe_count_500_price_high', 3),\n",
       " ('leisure_count_2000', 3),\n",
       " ('build_count_mix', 3),\n",
       " ('ekder_male', 2),\n",
       " ('young_female', 2),\n",
       " ('ekder_female', 2),\n",
       " ('work_male', 2),\n",
       " ('cafe_count_1500_price_high', 2),\n",
       " ('0_13_female', 2),\n",
       " ('cafe_count_2000_price_high', 2),\n",
       " ('big_church_count_500', 2),\n",
       " ('work_female', 2),\n",
       " ('leisure_count_1000', 1),\n",
       " ('water_1line', 1),\n",
       " ('0_17_female', 1),\n",
       " ('church_count_500', 1),\n",
       " ('0_6_female', 1),\n",
       " ('mosque_count_1000', 1),\n",
       " ('young_male', 1),\n",
       " ('mosque_count_1500', 1),\n",
       " ('0_6_male', 1)]"
      ]
     },
     "execution_count": 171,
     "metadata": {},
     "output_type": "execute_result"
    }
   ],
   "source": []
  },
  {
   "cell_type": "code",
   "execution_count": null,
   "metadata": {
    "collapsed": true
   },
   "outputs": [],
   "source": []
  },
  {
   "cell_type": "code",
   "execution_count": 1232,
   "metadata": {
    "collapsed": true
   },
   "outputs": [],
   "source": [
    "res = pd.DataFrame()\n",
    "res[\"real\"] = real\n",
    "res[\"preds\"] = preds\n",
    "res[\"delta\"] = (np.log1p(res.real) - np.log1p(res.preds))**2"
   ]
  },
  {
   "cell_type": "code",
   "execution_count": 1233,
   "metadata": {
    "collapsed": false
   },
   "outputs": [
    {
     "data": {
      "text/html": [
       "<div>\n",
       "<table border=\"1\" class=\"dataframe\">\n",
       "  <thead>\n",
       "    <tr style=\"text-align: right;\">\n",
       "      <th></th>\n",
       "      <th>real</th>\n",
       "      <th>preds</th>\n",
       "      <th>delta</th>\n",
       "    </tr>\n",
       "  </thead>\n",
       "  <tbody>\n",
       "    <tr>\n",
       "      <th>0</th>\n",
       "      <td>6400000</td>\n",
       "      <td>5.795683e+06</td>\n",
       "      <td>9.837600e-03</td>\n",
       "    </tr>\n",
       "    <tr>\n",
       "      <th>1</th>\n",
       "      <td>8200000</td>\n",
       "      <td>8.720858e+06</td>\n",
       "      <td>3.792516e-03</td>\n",
       "    </tr>\n",
       "    <tr>\n",
       "      <th>2</th>\n",
       "      <td>10500000</td>\n",
       "      <td>1.139054e+07</td>\n",
       "      <td>6.627234e-03</td>\n",
       "    </tr>\n",
       "    <tr>\n",
       "      <th>3</th>\n",
       "      <td>6396300</td>\n",
       "      <td>6.330469e+06</td>\n",
       "      <td>1.070257e-04</td>\n",
       "    </tr>\n",
       "    <tr>\n",
       "      <th>4</th>\n",
       "      <td>5782752</td>\n",
       "      <td>6.149483e+06</td>\n",
       "      <td>3.780804e-03</td>\n",
       "    </tr>\n",
       "    <tr>\n",
       "      <th>5</th>\n",
       "      <td>4365049</td>\n",
       "      <td>4.426918e+06</td>\n",
       "      <td>1.980837e-04</td>\n",
       "    </tr>\n",
       "    <tr>\n",
       "      <th>6</th>\n",
       "      <td>8500000</td>\n",
       "      <td>1.184691e+07</td>\n",
       "      <td>1.102246e-01</td>\n",
       "    </tr>\n",
       "    <tr>\n",
       "      <th>7</th>\n",
       "      <td>6482898</td>\n",
       "      <td>7.227437e+06</td>\n",
       "      <td>1.181934e-02</td>\n",
       "    </tr>\n",
       "    <tr>\n",
       "      <th>8</th>\n",
       "      <td>4971638</td>\n",
       "      <td>4.970978e+06</td>\n",
       "      <td>1.763739e-08</td>\n",
       "    </tr>\n",
       "    <tr>\n",
       "      <th>9</th>\n",
       "      <td>5531900</td>\n",
       "      <td>5.199004e+06</td>\n",
       "      <td>3.851978e-03</td>\n",
       "    </tr>\n",
       "    <tr>\n",
       "      <th>10</th>\n",
       "      <td>5200000</td>\n",
       "      <td>5.183559e+06</td>\n",
       "      <td>1.002869e-05</td>\n",
       "    </tr>\n",
       "    <tr>\n",
       "      <th>11</th>\n",
       "      <td>7100000</td>\n",
       "      <td>7.512129e+06</td>\n",
       "      <td>3.183688e-03</td>\n",
       "    </tr>\n",
       "    <tr>\n",
       "      <th>12</th>\n",
       "      <td>6251360</td>\n",
       "      <td>5.572868e+06</td>\n",
       "      <td>1.319954e-02</td>\n",
       "    </tr>\n",
       "    <tr>\n",
       "      <th>13</th>\n",
       "      <td>8200000</td>\n",
       "      <td>8.480009e+06</td>\n",
       "      <td>1.127437e-03</td>\n",
       "    </tr>\n",
       "    <tr>\n",
       "      <th>14</th>\n",
       "      <td>3846600</td>\n",
       "      <td>4.298228e+06</td>\n",
       "      <td>1.232395e-02</td>\n",
       "    </tr>\n",
       "    <tr>\n",
       "      <th>15</th>\n",
       "      <td>11850000</td>\n",
       "      <td>1.113871e+07</td>\n",
       "      <td>3.831734e-03</td>\n",
       "    </tr>\n",
       "    <tr>\n",
       "      <th>16</th>\n",
       "      <td>7000000</td>\n",
       "      <td>7.474484e+06</td>\n",
       "      <td>4.301374e-03</td>\n",
       "    </tr>\n",
       "    <tr>\n",
       "      <th>17</th>\n",
       "      <td>10450000</td>\n",
       "      <td>9.233707e+06</td>\n",
       "      <td>1.531193e-02</td>\n",
       "    </tr>\n",
       "    <tr>\n",
       "      <th>18</th>\n",
       "      <td>4400000</td>\n",
       "      <td>4.345753e+06</td>\n",
       "      <td>1.538939e-04</td>\n",
       "    </tr>\n",
       "    <tr>\n",
       "      <th>19</th>\n",
       "      <td>6321768</td>\n",
       "      <td>5.955400e+06</td>\n",
       "      <td>3.564164e-03</td>\n",
       "    </tr>\n",
       "    <tr>\n",
       "      <th>20</th>\n",
       "      <td>18902380</td>\n",
       "      <td>1.881438e+07</td>\n",
       "      <td>2.177650e-05</td>\n",
       "    </tr>\n",
       "    <tr>\n",
       "      <th>21</th>\n",
       "      <td>8883798</td>\n",
       "      <td>8.544291e+06</td>\n",
       "      <td>1.518336e-03</td>\n",
       "    </tr>\n",
       "    <tr>\n",
       "      <th>22</th>\n",
       "      <td>6600000</td>\n",
       "      <td>6.000096e+06</td>\n",
       "      <td>9.080966e-03</td>\n",
       "    </tr>\n",
       "    <tr>\n",
       "      <th>23</th>\n",
       "      <td>3690878</td>\n",
       "      <td>3.729133e+06</td>\n",
       "      <td>1.063258e-04</td>\n",
       "    </tr>\n",
       "    <tr>\n",
       "      <th>24</th>\n",
       "      <td>10000000</td>\n",
       "      <td>1.025427e+07</td>\n",
       "      <td>6.304733e-04</td>\n",
       "    </tr>\n",
       "    <tr>\n",
       "      <th>25</th>\n",
       "      <td>6563020</td>\n",
       "      <td>6.828143e+06</td>\n",
       "      <td>1.568314e-03</td>\n",
       "    </tr>\n",
       "    <tr>\n",
       "      <th>26</th>\n",
       "      <td>44876536</td>\n",
       "      <td>4.216722e+07</td>\n",
       "      <td>3.877785e-03</td>\n",
       "    </tr>\n",
       "    <tr>\n",
       "      <th>27</th>\n",
       "      <td>8300000</td>\n",
       "      <td>7.552750e+06</td>\n",
       "      <td>8.900755e-03</td>\n",
       "    </tr>\n",
       "    <tr>\n",
       "      <th>28</th>\n",
       "      <td>15000000</td>\n",
       "      <td>1.340769e+07</td>\n",
       "      <td>1.259366e-02</td>\n",
       "    </tr>\n",
       "    <tr>\n",
       "      <th>29</th>\n",
       "      <td>16200000</td>\n",
       "      <td>1.416949e+07</td>\n",
       "      <td>1.793459e-02</td>\n",
       "    </tr>\n",
       "    <tr>\n",
       "      <th>...</th>\n",
       "      <td>...</td>\n",
       "      <td>...</td>\n",
       "      <td>...</td>\n",
       "    </tr>\n",
       "    <tr>\n",
       "      <th>4970</th>\n",
       "      <td>6200000</td>\n",
       "      <td>5.767531e+06</td>\n",
       "      <td>5.228033e-03</td>\n",
       "    </tr>\n",
       "    <tr>\n",
       "      <th>4971</th>\n",
       "      <td>31202956</td>\n",
       "      <td>3.500159e+07</td>\n",
       "      <td>1.319759e-02</td>\n",
       "    </tr>\n",
       "    <tr>\n",
       "      <th>4972</th>\n",
       "      <td>3111872</td>\n",
       "      <td>3.094830e+06</td>\n",
       "      <td>3.015713e-05</td>\n",
       "    </tr>\n",
       "    <tr>\n",
       "      <th>4973</th>\n",
       "      <td>7796080</td>\n",
       "      <td>7.643993e+06</td>\n",
       "      <td>3.881250e-04</td>\n",
       "    </tr>\n",
       "    <tr>\n",
       "      <th>4974</th>\n",
       "      <td>7400000</td>\n",
       "      <td>7.463427e+06</td>\n",
       "      <td>7.284052e-05</td>\n",
       "    </tr>\n",
       "    <tr>\n",
       "      <th>4975</th>\n",
       "      <td>7643988</td>\n",
       "      <td>6.739746e+06</td>\n",
       "      <td>1.585012e-02</td>\n",
       "    </tr>\n",
       "    <tr>\n",
       "      <th>4976</th>\n",
       "      <td>6700000</td>\n",
       "      <td>6.648672e+06</td>\n",
       "      <td>5.914184e-05</td>\n",
       "    </tr>\n",
       "    <tr>\n",
       "      <th>4977</th>\n",
       "      <td>5000000</td>\n",
       "      <td>4.971261e+06</td>\n",
       "      <td>3.322831e-05</td>\n",
       "    </tr>\n",
       "    <tr>\n",
       "      <th>4978</th>\n",
       "      <td>4565790</td>\n",
       "      <td>4.865426e+06</td>\n",
       "      <td>4.040205e-03</td>\n",
       "    </tr>\n",
       "    <tr>\n",
       "      <th>4979</th>\n",
       "      <td>5400000</td>\n",
       "      <td>5.304579e+06</td>\n",
       "      <td>3.178575e-04</td>\n",
       "    </tr>\n",
       "    <tr>\n",
       "      <th>4980</th>\n",
       "      <td>5492479</td>\n",
       "      <td>5.124524e+06</td>\n",
       "      <td>4.808308e-03</td>\n",
       "    </tr>\n",
       "    <tr>\n",
       "      <th>4981</th>\n",
       "      <td>18500000</td>\n",
       "      <td>1.981549e+07</td>\n",
       "      <td>4.718793e-03</td>\n",
       "    </tr>\n",
       "    <tr>\n",
       "      <th>4982</th>\n",
       "      <td>7794070</td>\n",
       "      <td>6.939341e+06</td>\n",
       "      <td>1.349231e-02</td>\n",
       "    </tr>\n",
       "    <tr>\n",
       "      <th>4983</th>\n",
       "      <td>10650000</td>\n",
       "      <td>9.815389e+06</td>\n",
       "      <td>6.659929e-03</td>\n",
       "    </tr>\n",
       "    <tr>\n",
       "      <th>4984</th>\n",
       "      <td>8000000</td>\n",
       "      <td>7.704027e+06</td>\n",
       "      <td>1.421171e-03</td>\n",
       "    </tr>\n",
       "    <tr>\n",
       "      <th>4985</th>\n",
       "      <td>6537024</td>\n",
       "      <td>6.738426e+06</td>\n",
       "      <td>9.207830e-04</td>\n",
       "    </tr>\n",
       "    <tr>\n",
       "      <th>4986</th>\n",
       "      <td>3841298</td>\n",
       "      <td>4.087890e+06</td>\n",
       "      <td>3.871142e-03</td>\n",
       "    </tr>\n",
       "    <tr>\n",
       "      <th>4987</th>\n",
       "      <td>6850000</td>\n",
       "      <td>7.049418e+06</td>\n",
       "      <td>8.234851e-04</td>\n",
       "    </tr>\n",
       "    <tr>\n",
       "      <th>4988</th>\n",
       "      <td>5911004</td>\n",
       "      <td>5.686148e+06</td>\n",
       "      <td>1.504101e-03</td>\n",
       "    </tr>\n",
       "    <tr>\n",
       "      <th>4989</th>\n",
       "      <td>9700000</td>\n",
       "      <td>8.939591e+06</td>\n",
       "      <td>6.664451e-03</td>\n",
       "    </tr>\n",
       "    <tr>\n",
       "      <th>4990</th>\n",
       "      <td>5695200</td>\n",
       "      <td>5.803944e+06</td>\n",
       "      <td>3.577350e-04</td>\n",
       "    </tr>\n",
       "    <tr>\n",
       "      <th>4991</th>\n",
       "      <td>3512067</td>\n",
       "      <td>3.922442e+06</td>\n",
       "      <td>1.221236e-02</td>\n",
       "    </tr>\n",
       "    <tr>\n",
       "      <th>4992</th>\n",
       "      <td>3500000</td>\n",
       "      <td>3.241200e+06</td>\n",
       "      <td>5.901211e-03</td>\n",
       "    </tr>\n",
       "    <tr>\n",
       "      <th>4993</th>\n",
       "      <td>5600000</td>\n",
       "      <td>6.259144e+06</td>\n",
       "      <td>1.238254e-02</td>\n",
       "    </tr>\n",
       "    <tr>\n",
       "      <th>4994</th>\n",
       "      <td>5174562</td>\n",
       "      <td>5.260083e+06</td>\n",
       "      <td>2.687021e-04</td>\n",
       "    </tr>\n",
       "    <tr>\n",
       "      <th>4995</th>\n",
       "      <td>7400000</td>\n",
       "      <td>7.645528e+06</td>\n",
       "      <td>1.065425e-03</td>\n",
       "    </tr>\n",
       "    <tr>\n",
       "      <th>4996</th>\n",
       "      <td>8057647</td>\n",
       "      <td>7.530648e+06</td>\n",
       "      <td>4.575232e-03</td>\n",
       "    </tr>\n",
       "    <tr>\n",
       "      <th>4997</th>\n",
       "      <td>6100000</td>\n",
       "      <td>6.307995e+06</td>\n",
       "      <td>1.124198e-03</td>\n",
       "    </tr>\n",
       "    <tr>\n",
       "      <th>4998</th>\n",
       "      <td>5106200</td>\n",
       "      <td>5.357894e+06</td>\n",
       "      <td>2.315093e-03</td>\n",
       "    </tr>\n",
       "    <tr>\n",
       "      <th>4999</th>\n",
       "      <td>5500000</td>\n",
       "      <td>5.384634e+06</td>\n",
       "      <td>4.493829e-04</td>\n",
       "    </tr>\n",
       "  </tbody>\n",
       "</table>\n",
       "<p>5000 rows × 3 columns</p>\n",
       "</div>"
      ],
      "text/plain": [
       "          real         preds         delta\n",
       "0      6400000  5.795683e+06  9.837600e-03\n",
       "1      8200000  8.720858e+06  3.792516e-03\n",
       "2     10500000  1.139054e+07  6.627234e-03\n",
       "3      6396300  6.330469e+06  1.070257e-04\n",
       "4      5782752  6.149483e+06  3.780804e-03\n",
       "5      4365049  4.426918e+06  1.980837e-04\n",
       "6      8500000  1.184691e+07  1.102246e-01\n",
       "7      6482898  7.227437e+06  1.181934e-02\n",
       "8      4971638  4.970978e+06  1.763739e-08\n",
       "9      5531900  5.199004e+06  3.851978e-03\n",
       "10     5200000  5.183559e+06  1.002869e-05\n",
       "11     7100000  7.512129e+06  3.183688e-03\n",
       "12     6251360  5.572868e+06  1.319954e-02\n",
       "13     8200000  8.480009e+06  1.127437e-03\n",
       "14     3846600  4.298228e+06  1.232395e-02\n",
       "15    11850000  1.113871e+07  3.831734e-03\n",
       "16     7000000  7.474484e+06  4.301374e-03\n",
       "17    10450000  9.233707e+06  1.531193e-02\n",
       "18     4400000  4.345753e+06  1.538939e-04\n",
       "19     6321768  5.955400e+06  3.564164e-03\n",
       "20    18902380  1.881438e+07  2.177650e-05\n",
       "21     8883798  8.544291e+06  1.518336e-03\n",
       "22     6600000  6.000096e+06  9.080966e-03\n",
       "23     3690878  3.729133e+06  1.063258e-04\n",
       "24    10000000  1.025427e+07  6.304733e-04\n",
       "25     6563020  6.828143e+06  1.568314e-03\n",
       "26    44876536  4.216722e+07  3.877785e-03\n",
       "27     8300000  7.552750e+06  8.900755e-03\n",
       "28    15000000  1.340769e+07  1.259366e-02\n",
       "29    16200000  1.416949e+07  1.793459e-02\n",
       "...        ...           ...           ...\n",
       "4970   6200000  5.767531e+06  5.228033e-03\n",
       "4971  31202956  3.500159e+07  1.319759e-02\n",
       "4972   3111872  3.094830e+06  3.015713e-05\n",
       "4973   7796080  7.643993e+06  3.881250e-04\n",
       "4974   7400000  7.463427e+06  7.284052e-05\n",
       "4975   7643988  6.739746e+06  1.585012e-02\n",
       "4976   6700000  6.648672e+06  5.914184e-05\n",
       "4977   5000000  4.971261e+06  3.322831e-05\n",
       "4978   4565790  4.865426e+06  4.040205e-03\n",
       "4979   5400000  5.304579e+06  3.178575e-04\n",
       "4980   5492479  5.124524e+06  4.808308e-03\n",
       "4981  18500000  1.981549e+07  4.718793e-03\n",
       "4982   7794070  6.939341e+06  1.349231e-02\n",
       "4983  10650000  9.815389e+06  6.659929e-03\n",
       "4984   8000000  7.704027e+06  1.421171e-03\n",
       "4985   6537024  6.738426e+06  9.207830e-04\n",
       "4986   3841298  4.087890e+06  3.871142e-03\n",
       "4987   6850000  7.049418e+06  8.234851e-04\n",
       "4988   5911004  5.686148e+06  1.504101e-03\n",
       "4989   9700000  8.939591e+06  6.664451e-03\n",
       "4990   5695200  5.803944e+06  3.577350e-04\n",
       "4991   3512067  3.922442e+06  1.221236e-02\n",
       "4992   3500000  3.241200e+06  5.901211e-03\n",
       "4993   5600000  6.259144e+06  1.238254e-02\n",
       "4994   5174562  5.260083e+06  2.687021e-04\n",
       "4995   7400000  7.645528e+06  1.065425e-03\n",
       "4996   8057647  7.530648e+06  4.575232e-03\n",
       "4997   6100000  6.307995e+06  1.124198e-03\n",
       "4998   5106200  5.357894e+06  2.315093e-03\n",
       "4999   5500000  5.384634e+06  4.493829e-04\n",
       "\n",
       "[5000 rows x 3 columns]"
      ]
     },
     "execution_count": 1233,
     "metadata": {},
     "output_type": "execute_result"
    }
   ],
   "source": [
    "res"
   ]
  },
  {
   "cell_type": "code",
   "execution_count": 1234,
   "metadata": {
    "collapsed": false
   },
   "outputs": [
    {
     "data": {
      "text/plain": [
       "[('full_sq', 1005),\n",
       " ('life_sq', 538),\n",
       " ('floor', 528),\n",
       " ('build_year', 405),\n",
       " ('max_floor', 403),\n",
       " ('hp', 398),\n",
       " ('expl', 270),\n",
       " ('kitch_sq', 211),\n",
       " ('state', 155),\n",
       " ('material', 149),\n",
       " ('water_km', 134),\n",
       " ('num_room', 118),\n",
       " ('public_transport_station_km', 118),\n",
       " ('public_healthcare_km', 109),\n",
       " ('metro_min_avto', 107),\n",
       " ('prom_part_5000', 105),\n",
       " ('kindergarten_km', 102),\n",
       " ('hospital_beds_raion', 97),\n",
       " ('railroad_km', 97),\n",
       " ('cemetery_km', 96),\n",
       " ('school_km', 94),\n",
       " ('sub_area', 92),\n",
       " ('industrial_km', 92),\n",
       " ('metro_km_avto', 91),\n",
       " ('catering_km', 90),\n",
       " ('power_transmission_line_km', 89),\n",
       " ('green_part_500', 88),\n",
       " ('university_km', 86),\n",
       " ('park_km', 85),\n",
       " ('big_road2_km', 85),\n",
       " ('green_zone_km', 84),\n",
       " ('mosque_km', 83),\n",
       " ('big_road1_km', 82),\n",
       " ('metro_km_walk', 82),\n",
       " ('prom_part_3000', 81),\n",
       " ('ID_metro', 81),\n",
       " ('workplaces_km', 80),\n",
       " ('nuclear_reactor_km', 78),\n",
       " ('stadium_km', 78),\n",
       " ('bus_terminal_avto_km', 77),\n",
       " ('railroad_station_walk_km', 77),\n",
       " ('theater_km', 77),\n",
       " ('hospice_morgue_km', 75),\n",
       " ('preschool_km', 74),\n",
       " ('additional_education_km', 73),\n",
       " ('office_km', 70),\n",
       " ('museum_km', 70),\n",
       " ('shopping_centers_km', 69),\n",
       " ('ts_km', 69),\n",
       " ('indust_part', 68),\n",
       " ('big_church_km', 68),\n",
       " ('water_treatment_km', 67),\n",
       " ('swim_pool_km', 67),\n",
       " ('railroad_station_avto_min', 66),\n",
       " ('area_m', 65),\n",
       " ('ttk_km', 63),\n",
       " ('oil_chemistry_km', 60),\n",
       " ('prom_part_2000', 60),\n",
       " ('railroad_station_avto_km', 60),\n",
       " ('green_part_1000', 58),\n",
       " ('big_market_km', 58),\n",
       " ('radiation_km', 57),\n",
       " ('trc_sqm_5000', 56),\n",
       " ('product_type', 56),\n",
       " ('trc_sqm_1000', 56),\n",
       " ('basketball_km', 55),\n",
       " ('cafe_sum_5000_max_price_avg', 54),\n",
       " ('cafe_sum_1000_min_price_avg', 53),\n",
       " ('church_synagogue_km', 53),\n",
       " ('zd_vokzaly_avto_km', 52),\n",
       " ('market_shop_km', 52),\n",
       " ('ice_rink_km', 50),\n",
       " ('trc_sqm_2000', 50),\n",
       " ('green_zone_part', 50),\n",
       " ('office_sqm_1000', 50),\n",
       " ('ID_railroad_station_walk', 49),\n",
       " ('green_part_5000', 48),\n",
       " ('thermal_power_plant_km', 47),\n",
       " ('cafe_sum_500_min_price_avg', 47),\n",
       " ('fitness_km', 47),\n",
       " ('preschool_quota', 44),\n",
       " ('incineration_km', 44),\n",
       " ('cafe_sum_5000_min_price_avg', 44),\n",
       " ('sadovoe_km', 44),\n",
       " ('detention_facility_km', 44),\n",
       " ('sport_count_1500', 43),\n",
       " ('school_quota', 42),\n",
       " ('cafe_sum_1500_min_price_avg', 42),\n",
       " ('trc_sqm_1500', 39),\n",
       " ('prom_part_500', 39),\n",
       " ('cafe_count_2000', 39),\n",
       " ('mkad_km', 38),\n",
       " ('office_sqm_500', 38),\n",
       " ('cafe_sum_3000_min_price_avg', 37),\n",
       " ('sport_count_3000', 36),\n",
       " ('cafe_count_5000_price_2500', 36),\n",
       " ('prom_part_1500', 35),\n",
       " ('trc_count_3000', 35),\n",
       " ('exhibition_km', 35),\n",
       " ('build_count_block', 33),\n",
       " ('cafe_count_3000', 32),\n",
       " ('green_part_2000', 32),\n",
       " ('build_count_monolith', 31),\n",
       " ('office_sqm_5000', 31),\n",
       " ('prom_part_1000', 31),\n",
       " ('cafe_sum_3000_max_price_avg', 30),\n",
       " ('cafe_count_5000_price_4000', 30),\n",
       " ('green_part_1500', 30),\n",
       " ('cafe_avg_price_5000', 30),\n",
       " ('trc_sqm_3000', 29),\n",
       " ('build_count_1946-1970', 29),\n",
       " ('office_sqm_1500', 29),\n",
       " ('trc_count_5000', 28),\n",
       " ('cafe_count_5000', 27),\n",
       " ('cafe_count_1000', 27),\n",
       " ('cafe_sum_1000_max_price_avg', 27),\n",
       " ('cafe_avg_price_2000', 26),\n",
       " ('sport_count_1000', 26),\n",
       " ('raion_popul', 25),\n",
       " ('green_part_3000', 25),\n",
       " ('sport_objects_raion', 25),\n",
       " ('trc_count_1000', 24),\n",
       " ('build_count_brick', 24),\n",
       " ('healthcare_centers_raion', 24),\n",
       " ('church_count_1000', 24),\n",
       " ('railroad_station_walk_min', 23),\n",
       " ('cafe_avg_price_1500', 23),\n",
       " ('build_count_panel', 22),\n",
       " ('cafe_count_3000_price_2500', 22),\n",
       " ('office_sqm_3000', 22),\n",
       " ('build_count_after_1995', 22),\n",
       " ('cafe_count_3000_price_4000', 22),\n",
       " ('bulvar_ring_km', 21),\n",
       " ('cafe_count_1500_price_500', 21),\n",
       " ('big_church_count_3000', 21),\n",
       " ('public_transport_station_min_walk', 21),\n",
       " ('cafe_sum_2000_min_price_avg', 20),\n",
       " ('cafe_sum_2000_max_price_avg', 20),\n",
       " ('cafe_count_500', 20),\n",
       " ('cafe_sum_500_max_price_avg', 20),\n",
       " ('ID_big_road2', 19),\n",
       " ('trc_sqm_500', 19),\n",
       " ('market_count_500', 19),\n",
       " ('raion_build_count_with_material_info', 18),\n",
       " ('cafe_avg_price_1000', 18),\n",
       " ('cafe_count_2000_price_1000', 18),\n",
       " ('cafe_count_500_price_500', 18),\n",
       " ('sport_count_5000', 18),\n",
       " ('office_count_3000', 17),\n",
       " ('cafe_count_1500_price_2500', 17),\n",
       " ('market_count_1000', 17),\n",
       " ('sport_count_2000', 17),\n",
       " ('office_sqm_2000', 17),\n",
       " ('cafe_count_500_price_1500', 17),\n",
       " ('cafe_count_2000_price_500', 16),\n",
       " ('church_count_5000', 16),\n",
       " ('build_count_1971-1995', 16),\n",
       " ('sport_count_500', 16),\n",
       " ('shopping_centers_raion', 16),\n",
       " ('cafe_count_1000_price_1000', 16),\n",
       " ('cafe_avg_price_3000', 15),\n",
       " ('cafe_count_3000_price_500', 15),\n",
       " ('office_count_1000', 15),\n",
       " ('trc_count_2000', 15),\n",
       " ('cafe_sum_1500_max_price_avg', 15),\n",
       " ('market_count_5000', 15),\n",
       " ('cafe_count_2000_price_1500', 14),\n",
       " ('ID_railroad_station_avto', 14),\n",
       " ('office_raion', 14),\n",
       " ('market_count_1500', 14),\n",
       " ('full_all', 13),\n",
       " ('cafe_count_5000_price_1000', 13),\n",
       " ('church_count_1500', 13),\n",
       " ('kremlin_km', 13),\n",
       " ('cafe_count_1000_price_500', 13),\n",
       " ('office_count_1500', 13),\n",
       " ('cafe_count_1000_price_1500', 13),\n",
       " ('ID_big_road1', 12),\n",
       " ('school_education_centers_raion', 12),\n",
       " ('leisure_count_1500', 12),\n",
       " ('ecology', 12),\n",
       " ('church_count_3000', 12),\n",
       " ('cafe_count_5000_price_high', 11),\n",
       " ('cafe_count_1500_price_1500', 11),\n",
       " ('cafe_count_1000_price_2500', 11),\n",
       " ('cafe_count_1500_price_1000', 11),\n",
       " ('cafe_count_5000_price_500', 11),\n",
       " ('cafe_count_1000_na_price', 11),\n",
       " ('build_count_wood', 11),\n",
       " ('leisure_count_500', 11),\n",
       " ('ekder_male', 11),\n",
       " ('build_count_slag', 11),\n",
       " ('trc_count_1500', 11),\n",
       " ('preschool_education_centers_raion', 10),\n",
       " ('big_church_count_2000', 10),\n",
       " ('market_count_3000', 10),\n",
       " ('cafe_count_1500', 10),\n",
       " ('7_14_male', 10),\n",
       " ('cafe_count_500_price_1000', 10),\n",
       " ('cafe_count_500_price_4000', 10),\n",
       " ('market_count_2000', 10),\n",
       " ('cafe_count_3000_na_price', 9),\n",
       " ('cafe_count_2000_price_4000', 9),\n",
       " ('ekder_all', 9),\n",
       " ('leisure_count_3000', 9),\n",
       " ('cafe_count_2000_price_2500', 9),\n",
       " ('office_count_5000', 9),\n",
       " ('cafe_count_1500_price_4000', 9),\n",
       " ('build_count_foam', 9),\n",
       " ('cafe_count_1000_price_high', 9),\n",
       " ('female_f', 9),\n",
       " ('cafe_avg_price_500', 9),\n",
       " ('young_all', 8),\n",
       " ('build_count_before_1920', 8),\n",
       " ('build_count_1921-1945', 8),\n",
       " ('young_male', 8),\n",
       " ('cafe_count_5000_price_1500', 8),\n",
       " ('leisure_count_1000', 8),\n",
       " ('mosque_count_5000', 8),\n",
       " ('church_count_2000', 8),\n",
       " ('cafe_count_1500_na_price', 7),\n",
       " ('cafe_count_3000_price_1000', 7),\n",
       " ('ekder_female', 7),\n",
       " ('7_14_female', 7),\n",
       " ('additional_education_raion', 7),\n",
       " ('work_male', 7),\n",
       " ('office_count_500', 7),\n",
       " ('office_count_2000', 7),\n",
       " ('work_all', 7),\n",
       " ('male_f', 6),\n",
       " ('cafe_count_3000_price_1500', 6),\n",
       " ('cafe_count_500_price_2500', 6),\n",
       " ('16_29_all', 6),\n",
       " ('leisure_count_5000', 6),\n",
       " ('big_church_count_5000', 6),\n",
       " ('cafe_count_2000_na_price', 6),\n",
       " ('church_count_500', 6),\n",
       " ('build_count_frame', 6),\n",
       " ('cafe_count_2000_price_high', 5),\n",
       " ('work_female', 5),\n",
       " ('big_church_count_1500', 5),\n",
       " ('trc_count_500', 5),\n",
       " ('cafe_count_1000_price_4000', 5),\n",
       " ('cafe_count_5000_na_price', 4),\n",
       " ('cafe_count_3000_price_high', 4),\n",
       " ('culture_objects_top_25_raion', 4),\n",
       " ('ID_bus_terminal', 4),\n",
       " ('cafe_count_1500_price_high', 4),\n",
       " ('young_female', 4),\n",
       " ('16_29_male', 4),\n",
       " ('culture_objects_top_25', 3),\n",
       " ('16_29_female', 3),\n",
       " ('cafe_count_500_na_price', 3),\n",
       " ('leisure_count_2000', 3),\n",
       " ('big_church_count_500', 2),\n",
       " ('0_13_male', 2),\n",
       " ('raion_build_count_with_builddate_info', 2),\n",
       " ('big_church_count_1000', 2),\n",
       " ('school_education_centers_top_20_raion', 2),\n",
       " ('university_top_20_raion', 2),\n",
       " ('railroad_1line', 1),\n",
       " ('0_6_female', 1),\n",
       " ('0_17_all', 1),\n",
       " ('ID_railroad_terminal', 1),\n",
       " ('mosque_count_2000', 1),\n",
       " ('build_count_mix', 1),\n",
       " ('mosque_count_1000', 1),\n",
       " ('water_1line', 1),\n",
       " ('0_17_female', 1),\n",
       " ('big_market_raion', 1)]"
      ]
     },
     "execution_count": 1234,
     "metadata": {},
     "output_type": "execute_result"
    }
   ],
   "source": []
  },
  {
   "cell_type": "code",
   "execution_count": 813,
   "metadata": {
    "collapsed": false
   },
   "outputs": [],
   "source": [
    "preds = partial_model.predict(dval)"
   ]
  },
  {
   "cell_type": "code",
   "execution_count": 814,
   "metadata": {
    "collapsed": false
   },
   "outputs": [],
   "source": [
    "#preds = np.exp(preds) - 1"
   ]
  },
  {
   "cell_type": "code",
   "execution_count": 815,
   "metadata": {
    "collapsed": false
   },
   "outputs": [],
   "source": [
    "preds = X_val[:,0] * preds"
   ]
  },
  {
   "cell_type": "code",
   "execution_count": 816,
   "metadata": {
    "collapsed": true
   },
   "outputs": [],
   "source": [
    "real = data.price_doc.values[int(len(data[data.price_doc != 0])*0.9):\n",
    "                             len(data[data.price_doc != 0])]"
   ]
  },
  {
   "cell_type": "code",
   "execution_count": 817,
   "metadata": {
    "collapsed": false
   },
   "outputs": [],
   "source": [
    "l = (np.log1p(preds) - np.log1p(real))**2\n",
    "err = np.sqrt((1/len(preds))*sum(l))"
   ]
  },
  {
   "cell_type": "code",
   "execution_count": 818,
   "metadata": {
    "collapsed": false
   },
   "outputs": [
    {
     "data": {
      "text/plain": [
       "0.38324246735140532"
      ]
     },
     "execution_count": 818,
     "metadata": {},
     "output_type": "execute_result"
    }
   ],
   "source": [
    "err"
   ]
  },
  {
   "cell_type": "code",
   "execution_count": null,
   "metadata": {
    "collapsed": false
   },
   "outputs": [],
   "source": []
  },
  {
   "cell_type": "code",
   "execution_count": null,
   "metadata": {
    "collapsed": true
   },
   "outputs": [],
   "source": []
  },
  {
   "cell_type": "code",
   "execution_count": null,
   "metadata": {
    "collapsed": true
   },
   "outputs": [],
   "source": []
  },
  {
   "cell_type": "code",
   "execution_count": null,
   "metadata": {
    "collapsed": true
   },
   "outputs": [],
   "source": []
  },
  {
   "cell_type": "code",
   "execution_count": null,
   "metadata": {
    "collapsed": true
   },
   "outputs": [],
   "source": []
  }
 ],
 "metadata": {
  "kernelspec": {
   "display_name": "Python 3",
   "language": "python",
   "name": "python3"
  },
  "language_info": {
   "codemirror_mode": {
    "name": "ipython",
    "version": 3
   },
   "file_extension": ".py",
   "mimetype": "text/x-python",
   "name": "python",
   "nbconvert_exporter": "python",
   "pygments_lexer": "ipython3",
   "version": "3.6.0"
  }
 },
 "nbformat": 4,
 "nbformat_minor": 2
}
