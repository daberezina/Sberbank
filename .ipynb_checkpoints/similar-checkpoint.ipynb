{
 "cells": [
  {
   "cell_type": "code",
   "execution_count": 24,
   "metadata": {
    "collapsed": true
   },
   "outputs": [],
   "source": [
    "import numpy as np\n",
    "import pandas as pd\n",
    "import scipy as sc\n",
    "\n",
    "import random\n",
    "\n",
    "from sklearn.preprocessing import LabelEncoder, StandardScaler"
   ]
  },
  {
   "cell_type": "code",
   "execution_count": 25,
   "metadata": {
    "collapsed": false
   },
   "outputs": [],
   "source": [
    "data_init = pd.read_excel(\"C:/Users/Berezina.Darya/Documents/GitHub/Sberbank/total4.xlsx\")"
   ]
  },
  {
   "cell_type": "code",
   "execution_count": 2,
   "metadata": {
    "collapsed": true
   },
   "outputs": [],
   "source": [
    "data_init = pd.read_excel(\"/Users/daber/Projects/Sberbank/total4.xlsx\")"
   ]
  },
  {
   "cell_type": "code",
   "execution_count": 26,
   "metadata": {
    "collapsed": true
   },
   "outputs": [],
   "source": [
    "cian = pd.read_csv(\"C:/Users/Berezina.Darya/Documents/GitHub/Sberbank/cian_prices\", header=None, sep=\";\", \n",
    "                   names=[\"sub_area\", \"avp\", \"growth\"])"
   ]
  },
  {
   "cell_type": "code",
   "execution_count": 3,
   "metadata": {
    "collapsed": false
   },
   "outputs": [],
   "source": [
    "cian = pd.read_csv(\"/Users/daber/Projects/Sberbank/cian_prices\", header=None, sep=\";\", \n",
    "                   names=[\"sub_area\", \"avp\", \"growth\"])"
   ]
  },
  {
   "cell_type": "code",
   "execution_count": 27,
   "metadata": {
    "collapsed": false
   },
   "outputs": [
    {
     "data": {
      "text/html": [
       "<div>\n",
       "<table border=\"1\" class=\"dataframe\">\n",
       "  <thead>\n",
       "    <tr style=\"text-align: right;\">\n",
       "      <th></th>\n",
       "      <th>sub_area</th>\n",
       "      <th>avp</th>\n",
       "      <th>growth</th>\n",
       "    </tr>\n",
       "  </thead>\n",
       "  <tbody>\n",
       "    <tr>\n",
       "      <th>0</th>\n",
       "      <td>Ajeroport</td>\n",
       "      <td>221 317</td>\n",
       "      <td>0.9</td>\n",
       "    </tr>\n",
       "    <tr>\n",
       "      <th>1</th>\n",
       "      <td>Akademicheskoe</td>\n",
       "      <td>213 748</td>\n",
       "      <td>0.4</td>\n",
       "    </tr>\n",
       "    <tr>\n",
       "      <th>2</th>\n",
       "      <td>Alekseevskoe</td>\n",
       "      <td>213 848</td>\n",
       "      <td>0.6</td>\n",
       "    </tr>\n",
       "    <tr>\n",
       "      <th>3</th>\n",
       "      <td>Altuf'evskoe</td>\n",
       "      <td>151 306</td>\n",
       "      <td>-1.3</td>\n",
       "    </tr>\n",
       "    <tr>\n",
       "      <th>4</th>\n",
       "      <td>Arbat</td>\n",
       "      <td>526 173</td>\n",
       "      <td>7.2</td>\n",
       "    </tr>\n",
       "  </tbody>\n",
       "</table>\n",
       "</div>"
      ],
      "text/plain": [
       "         sub_area       avp  growth\n",
       "0       Ajeroport   221 317     0.9\n",
       "1  Akademicheskoe   213 748     0.4\n",
       "2    Alekseevskoe   213 848     0.6\n",
       "3    Altuf'evskoe   151 306    -1.3\n",
       "4           Arbat   526 173     7.2"
      ]
     },
     "execution_count": 27,
     "metadata": {},
     "output_type": "execute_result"
    }
   ],
   "source": [
    "cian.head()"
   ]
  },
  {
   "cell_type": "code",
   "execution_count": 28,
   "metadata": {
    "collapsed": true
   },
   "outputs": [],
   "source": [
    "cian.avp = cian.avp.apply(lambda x: int(str(x).replace(\" \", \"\")))"
   ]
  },
  {
   "cell_type": "code",
   "execution_count": 29,
   "metadata": {
    "collapsed": true
   },
   "outputs": [],
   "source": [
    "data = data_init.copy()\n",
    "data[\"price_m\"] = data.price_doc / data.full_sq\n",
    "data[\"month\"] = [int((d[:4])+(d[5:7])) for d in data.timestamp.values]\n",
    "data[\"year\"] = [int(d[:4]) for d in data.timestamp.values]\n",
    "data[\"expl\"] = -data.build_year + data.year"
   ]
  },
  {
   "cell_type": "code",
   "execution_count": 30,
   "metadata": {
    "collapsed": true
   },
   "outputs": [],
   "source": [
    "to_take = [\"id\", \"full_sq\", \"life_sq\", \"floor\", \"max_floor\", \"build_year\", \"num_room\",\n",
    "          \"state\", \"sub_area\", 'kitch_sq','metro_min_avto',\"month\", \"material\", \"price_doc\", \"price_m\",\n",
    "          \"year\", \"expl\", \"kindergarten_km\", \"school_km\", \"public_transport_station_km\"]"
   ]
  },
  {
   "cell_type": "code",
   "execution_count": 31,
   "metadata": {
    "collapsed": false
   },
   "outputs": [],
   "source": [
    "df = data[to_take].reset_index(drop=True)"
   ]
  },
  {
   "cell_type": "code",
   "execution_count": 32,
   "metadata": {
    "collapsed": true
   },
   "outputs": [],
   "source": [
    "df = df.merge(cian, on=\"sub_area\")"
   ]
  },
  {
   "cell_type": "code",
   "execution_count": 33,
   "metadata": {
    "collapsed": false
   },
   "outputs": [],
   "source": [
    "df[\"coef\"] = df.avp / np.unique(df.avp).mean()\n",
    "df[\"pma\"] = df.price_m / df.coef"
   ]
  },
  {
   "cell_type": "code",
   "execution_count": 34,
   "metadata": {
    "collapsed": false
   },
   "outputs": [
    {
     "data": {
      "text/html": [
       "<div>\n",
       "<table border=\"1\" class=\"dataframe\">\n",
       "  <thead>\n",
       "    <tr style=\"text-align: right;\">\n",
       "      <th></th>\n",
       "      <th>id</th>\n",
       "      <th>full_sq</th>\n",
       "      <th>life_sq</th>\n",
       "      <th>floor</th>\n",
       "      <th>max_floor</th>\n",
       "      <th>build_year</th>\n",
       "      <th>num_room</th>\n",
       "      <th>state</th>\n",
       "      <th>sub_area</th>\n",
       "      <th>kitch_sq</th>\n",
       "      <th>...</th>\n",
       "      <th>price_m</th>\n",
       "      <th>year</th>\n",
       "      <th>expl</th>\n",
       "      <th>kindergarten_km</th>\n",
       "      <th>school_km</th>\n",
       "      <th>public_transport_station_km</th>\n",
       "      <th>avp</th>\n",
       "      <th>growth</th>\n",
       "      <th>coef</th>\n",
       "      <th>pma</th>\n",
       "    </tr>\n",
       "  </thead>\n",
       "  <tbody>\n",
       "    <tr>\n",
       "      <th>0</th>\n",
       "      <td>1</td>\n",
       "      <td>43.0</td>\n",
       "      <td>27.0</td>\n",
       "      <td>4.0</td>\n",
       "      <td>9.0</td>\n",
       "      <td>1974.0</td>\n",
       "      <td>2.0</td>\n",
       "      <td>2.0</td>\n",
       "      <td>Bibirevo</td>\n",
       "      <td>6.0</td>\n",
       "      <td>...</td>\n",
       "      <td>136046.511628</td>\n",
       "      <td>2011</td>\n",
       "      <td>37.0</td>\n",
       "      <td>0.145700</td>\n",
       "      <td>0.177975</td>\n",
       "      <td>0.274985</td>\n",
       "      <td>154149</td>\n",
       "      <td>-1.6</td>\n",
       "      <td>0.864001</td>\n",
       "      <td>157460.989574</td>\n",
       "    </tr>\n",
       "    <tr>\n",
       "      <th>1</th>\n",
       "      <td>8</td>\n",
       "      <td>44.0</td>\n",
       "      <td>NaN</td>\n",
       "      <td>5.0</td>\n",
       "      <td>9.0</td>\n",
       "      <td>1974.0</td>\n",
       "      <td>2.0</td>\n",
       "      <td>NaN</td>\n",
       "      <td>Bibirevo</td>\n",
       "      <td>6.0</td>\n",
       "      <td>...</td>\n",
       "      <td>45454.545455</td>\n",
       "      <td>2011</td>\n",
       "      <td>37.0</td>\n",
       "      <td>0.134365</td>\n",
       "      <td>0.581511</td>\n",
       "      <td>0.254814</td>\n",
       "      <td>154149</td>\n",
       "      <td>-1.6</td>\n",
       "      <td>0.864001</td>\n",
       "      <td>52609.343836</td>\n",
       "    </tr>\n",
       "    <tr>\n",
       "      <th>2</th>\n",
       "      <td>33</td>\n",
       "      <td>38.0</td>\n",
       "      <td>34.0</td>\n",
       "      <td>2.0</td>\n",
       "      <td>NaN</td>\n",
       "      <td>NaN</td>\n",
       "      <td>NaN</td>\n",
       "      <td>NaN</td>\n",
       "      <td>Bibirevo</td>\n",
       "      <td>NaN</td>\n",
       "      <td>...</td>\n",
       "      <td>128947.368421</td>\n",
       "      <td>2011</td>\n",
       "      <td>NaN</td>\n",
       "      <td>0.151205</td>\n",
       "      <td>0.295021</td>\n",
       "      <td>0.054883</td>\n",
       "      <td>154149</td>\n",
       "      <td>-1.6</td>\n",
       "      <td>0.864001</td>\n",
       "      <td>149244.401724</td>\n",
       "    </tr>\n",
       "    <tr>\n",
       "      <th>3</th>\n",
       "      <td>71</td>\n",
       "      <td>32.0</td>\n",
       "      <td>19.0</td>\n",
       "      <td>9.0</td>\n",
       "      <td>9.0</td>\n",
       "      <td>1975.0</td>\n",
       "      <td>1.0</td>\n",
       "      <td>2.0</td>\n",
       "      <td>Bibirevo</td>\n",
       "      <td>6.0</td>\n",
       "      <td>...</td>\n",
       "      <td>165625.000000</td>\n",
       "      <td>2011</td>\n",
       "      <td>36.0</td>\n",
       "      <td>0.121817</td>\n",
       "      <td>0.346549</td>\n",
       "      <td>0.167543</td>\n",
       "      <td>154149</td>\n",
       "      <td>-1.6</td>\n",
       "      <td>0.864001</td>\n",
       "      <td>191695.296602</td>\n",
       "    </tr>\n",
       "    <tr>\n",
       "      <th>4</th>\n",
       "      <td>103</td>\n",
       "      <td>44.0</td>\n",
       "      <td>28.0</td>\n",
       "      <td>4.0</td>\n",
       "      <td>9.0</td>\n",
       "      <td>1974.0</td>\n",
       "      <td>2.0</td>\n",
       "      <td>NaN</td>\n",
       "      <td>Bibirevo</td>\n",
       "      <td>6.0</td>\n",
       "      <td>...</td>\n",
       "      <td>135227.272727</td>\n",
       "      <td>2011</td>\n",
       "      <td>37.0</td>\n",
       "      <td>0.061154</td>\n",
       "      <td>0.595054</td>\n",
       "      <td>0.227483</td>\n",
       "      <td>154149</td>\n",
       "      <td>-1.6</td>\n",
       "      <td>0.864001</td>\n",
       "      <td>156512.797912</td>\n",
       "    </tr>\n",
       "  </tbody>\n",
       "</table>\n",
       "<p>5 rows × 24 columns</p>\n",
       "</div>"
      ],
      "text/plain": [
       "    id  full_sq  life_sq  floor  max_floor  build_year  num_room  state  \\\n",
       "0    1     43.0     27.0    4.0        9.0      1974.0       2.0    2.0   \n",
       "1    8     44.0      NaN    5.0        9.0      1974.0       2.0    NaN   \n",
       "2   33     38.0     34.0    2.0        NaN         NaN       NaN    NaN   \n",
       "3   71     32.0     19.0    9.0        9.0      1975.0       1.0    2.0   \n",
       "4  103     44.0     28.0    4.0        9.0      1974.0       2.0    NaN   \n",
       "\n",
       "   sub_area  kitch_sq      ...              price_m  year  expl  \\\n",
       "0  Bibirevo       6.0      ...        136046.511628  2011  37.0   \n",
       "1  Bibirevo       6.0      ...         45454.545455  2011  37.0   \n",
       "2  Bibirevo       NaN      ...        128947.368421  2011   NaN   \n",
       "3  Bibirevo       6.0      ...        165625.000000  2011  36.0   \n",
       "4  Bibirevo       6.0      ...        135227.272727  2011  37.0   \n",
       "\n",
       "   kindergarten_km  school_km  public_transport_station_km     avp  growth  \\\n",
       "0         0.145700   0.177975                     0.274985  154149    -1.6   \n",
       "1         0.134365   0.581511                     0.254814  154149    -1.6   \n",
       "2         0.151205   0.295021                     0.054883  154149    -1.6   \n",
       "3         0.121817   0.346549                     0.167543  154149    -1.6   \n",
       "4         0.061154   0.595054                     0.227483  154149    -1.6   \n",
       "\n",
       "       coef            pma  \n",
       "0  0.864001  157460.989574  \n",
       "1  0.864001   52609.343836  \n",
       "2  0.864001  149244.401724  \n",
       "3  0.864001  191695.296602  \n",
       "4  0.864001  156512.797912  \n",
       "\n",
       "[5 rows x 24 columns]"
      ]
     },
     "execution_count": 34,
     "metadata": {},
     "output_type": "execute_result"
    }
   ],
   "source": [
    "df.head()"
   ]
  },
  {
   "cell_type": "code",
   "execution_count": 83,
   "metadata": {
    "collapsed": false
   },
   "outputs": [],
   "source": [
    "df2 = df.copy()\n",
    "df2.fillna(0, inplace=True)"
   ]
  },
  {
   "cell_type": "code",
   "execution_count": 84,
   "metadata": {
    "collapsed": true
   },
   "outputs": [],
   "source": [
    "cols = ['full_sq', 'life_sq', 'floor', 'max_floor', 'build_year', 'num_room',\n",
    "       'state', 'kitch_sq', 'metro_min_avto', 'material', 'year', 'expl',\n",
    "       'kindergarten_km', 'school_km', 'public_transport_station_km', 'avp']"
   ]
  },
  {
   "cell_type": "code",
   "execution_count": 85,
   "metadata": {
    "collapsed": true
   },
   "outputs": [],
   "source": [
    "df3 = df2.copy()\n",
    "for col in cols:\n",
    "    df3.ix[:,col] = (df3.ix[:,col] - df3.ix[:,col].min())/(df3.ix[:,col].max() - df3.ix[:,col].min())"
   ]
  },
  {
   "cell_type": "code",
   "execution_count": 86,
   "metadata": {
    "collapsed": true
   },
   "outputs": [],
   "source": [
    "df4 = df3[df3.price_doc > 0].reset_index(drop=True)\n",
    "df5 = df4.drop([\"id\", \"sub_area\", \"price_doc\", \"price_m\", \"growth\",\"month\", \"coef\", \"pma\"],1)"
   ]
  },
  {
   "cell_type": "code",
   "execution_count": 87,
   "metadata": {
    "collapsed": true
   },
   "outputs": [],
   "source": [
    "df6 = df3[df3.price_doc == 0].reset_index(drop=True)\n",
    "df7 = df6.drop([\"id\", \"sub_area\", \"price_doc\", \"price_m\", \"growth\",\"month\", \"coef\", \"pma\"],1)"
   ]
  },
  {
   "cell_type": "code",
   "execution_count": 36,
   "metadata": {
    "collapsed": true
   },
   "outputs": [],
   "source": [
    "#ss = StandardScaler()\n",
    "#X = ss.fit_transform(df3)"
   ]
  },
  {
   "cell_type": "code",
   "execution_count": 88,
   "metadata": {
    "collapsed": true
   },
   "outputs": [],
   "source": [
    "X = df5.values"
   ]
  },
  {
   "cell_type": "code",
   "execution_count": null,
   "metadata": {
    "collapsed": false
   },
   "outputs": [],
   "source": []
  },
  {
   "cell_type": "code",
   "execution_count": 80,
   "metadata": {
    "collapsed": true
   },
   "outputs": [],
   "source": [
    "def find_similar(ind):\n",
    "    v = X[ind]\n",
    "    r = []\n",
    "    for i in range(len(X)):\n",
    "        if i != ind:\n",
    "            r.append((i,sc.linalg.norm(X[i]-v)))\n",
    "    r.sort(key=lambda x: x[1], reverse=False)\n",
    "    rr = []\n",
    "    for i in range(10):\n",
    "        rr.append(df4[[\"pma\"]].loc[r[i][0]].values[0])\n",
    "    rr.sort()\n",
    "    \n",
    "    best, std = 0, np.std(rr[:6])\n",
    "    for i in range(1,len(rr)-6):\n",
    "        if np.std(rr[i:i+3]) < std:\n",
    "            best = i\n",
    "            std = np.std(rr[i:i+6])\n",
    "\n",
    "    return np.mean(np.array(rr[best:best+6]))*df4[[\"coef\"]].loc[ind].values[0]"
   ]
  },
  {
   "cell_type": "code",
   "execution_count": 89,
   "metadata": {
    "collapsed": true
   },
   "outputs": [],
   "source": [
    "def find_similar(v):\n",
    "    r = []\n",
    "    for i in range(len(X)):\n",
    "        r.append((i,sc.linalg.norm(X[i]-v)))\n",
    "    r.sort(key=lambda x: x[1], reverse=False)\n",
    "    rr = []\n",
    "    for i in range(10):\n",
    "        rr.append(df4[[\"pma\"]].loc[r[i][0]].values[0])\n",
    "    rr.sort()\n",
    "    \n",
    "    best, std = 0, np.std(rr[:6])\n",
    "    for i in range(1,len(rr)-6):\n",
    "        if np.std(rr[i:i+3]) < std:\n",
    "            best = i\n",
    "            std = np.std(rr[i:i+6])\n",
    "\n",
    "    return np.mean(np.array(rr[best:best+6]))*df6[[\"coef\"]].loc[j].values[0]"
   ]
  },
  {
   "cell_type": "code",
   "execution_count": null,
   "metadata": {
    "collapsed": true
   },
   "outputs": [],
   "source": []
  },
  {
   "cell_type": "code",
   "execution_count": 51,
   "metadata": {
    "collapsed": false
   },
   "outputs": [
    {
     "data": {
      "text/html": [
       "<div>\n",
       "<table border=\"1\" class=\"dataframe\">\n",
       "  <thead>\n",
       "    <tr style=\"text-align: right;\">\n",
       "      <th></th>\n",
       "      <th>id</th>\n",
       "      <th>full_sq</th>\n",
       "      <th>life_sq</th>\n",
       "      <th>floor</th>\n",
       "      <th>max_floor</th>\n",
       "      <th>build_year</th>\n",
       "      <th>num_room</th>\n",
       "      <th>state</th>\n",
       "      <th>sub_area</th>\n",
       "      <th>kitch_sq</th>\n",
       "      <th>...</th>\n",
       "      <th>price_m</th>\n",
       "      <th>year</th>\n",
       "      <th>expl</th>\n",
       "      <th>kindergarten_km</th>\n",
       "      <th>school_km</th>\n",
       "      <th>public_transport_station_km</th>\n",
       "      <th>avp</th>\n",
       "      <th>growth</th>\n",
       "      <th>coef</th>\n",
       "      <th>pma</th>\n",
       "    </tr>\n",
       "  </thead>\n",
       "  <tbody>\n",
       "    <tr>\n",
       "      <th>2148</th>\n",
       "      <td>27449</td>\n",
       "      <td>77.0</td>\n",
       "      <td>44.0</td>\n",
       "      <td>11.0</td>\n",
       "      <td>14.0</td>\n",
       "      <td>2011.0</td>\n",
       "      <td>3.0</td>\n",
       "      <td>3.0</td>\n",
       "      <td>Kuncevo</td>\n",
       "      <td>8.0</td>\n",
       "      <td>...</td>\n",
       "      <td>38961.038961</td>\n",
       "      <td>2015</td>\n",
       "      <td>4.0</td>\n",
       "      <td>0.076619</td>\n",
       "      <td>0.517121</td>\n",
       "      <td>0.114636</td>\n",
       "      <td>192025</td>\n",
       "      <td>0.3</td>\n",
       "      <td>1.076295</td>\n",
       "      <td>36199.205057</td>\n",
       "    </tr>\n",
       "  </tbody>\n",
       "</table>\n",
       "<p>1 rows × 24 columns</p>\n",
       "</div>"
      ],
      "text/plain": [
       "         id  full_sq  life_sq  floor  max_floor  build_year  num_room  state  \\\n",
       "2148  27449     77.0     44.0   11.0       14.0      2011.0       3.0    3.0   \n",
       "\n",
       "     sub_area  kitch_sq      ...            price_m  year  expl  \\\n",
       "2148  Kuncevo       8.0      ...       38961.038961  2015   4.0   \n",
       "\n",
       "      kindergarten_km  school_km  public_transport_station_km     avp  growth  \\\n",
       "2148         0.076619   0.517121                     0.114636  192025     0.3   \n",
       "\n",
       "          coef           pma  \n",
       "2148  1.076295  36199.205057  \n",
       "\n",
       "[1 rows x 24 columns]"
      ]
     },
     "execution_count": 51,
     "metadata": {},
     "output_type": "execute_result"
    }
   ],
   "source": [
    "df2[df2.id == 27449]"
   ]
  },
  {
   "cell_type": "code",
   "execution_count": 52,
   "metadata": {
    "collapsed": false
   },
   "outputs": [
    {
     "data": {
      "text/plain": [
       "196693.17417682742"
      ]
     },
     "execution_count": 52,
     "metadata": {},
     "output_type": "execute_result"
    }
   ],
   "source": [
    "find_similar(2148)"
   ]
  },
  {
   "cell_type": "code",
   "execution_count": 54,
   "metadata": {
    "collapsed": false
   },
   "outputs": [
    {
     "data": {
      "text/plain": [
       "-0.8010204081632653"
      ]
     },
     "execution_count": 54,
     "metadata": {},
     "output_type": "execute_result"
    }
   ],
   "source": [
    "39/196-1"
   ]
  },
  {
   "cell_type": "code",
   "execution_count": 294,
   "metadata": {
    "collapsed": false
   },
   "outputs": [
    {
     "data": {
      "text/html": [
       "<div>\n",
       "<table border=\"1\" class=\"dataframe\">\n",
       "  <thead>\n",
       "    <tr style=\"text-align: right;\">\n",
       "      <th></th>\n",
       "      <th>full_sq</th>\n",
       "      <th>life_sq</th>\n",
       "      <th>floor</th>\n",
       "      <th>max_floor</th>\n",
       "      <th>build_year</th>\n",
       "      <th>num_room</th>\n",
       "      <th>state</th>\n",
       "      <th>kitch_sq</th>\n",
       "      <th>metro_min_avto</th>\n",
       "      <th>material</th>\n",
       "      <th>year</th>\n",
       "      <th>expl</th>\n",
       "      <th>kindergarten_km</th>\n",
       "      <th>school_km</th>\n",
       "      <th>public_transport_station_km</th>\n",
       "      <th>avp</th>\n",
       "    </tr>\n",
       "  </thead>\n",
       "  <tbody>\n",
       "    <tr>\n",
       "      <th>0</th>\n",
       "      <td>43.0</td>\n",
       "      <td>27.0</td>\n",
       "      <td>4.0</td>\n",
       "      <td>9.0</td>\n",
       "      <td>1974.0</td>\n",
       "      <td>2.0</td>\n",
       "      <td>2.0</td>\n",
       "      <td>6.0</td>\n",
       "      <td>2.590241</td>\n",
       "      <td>1.0</td>\n",
       "      <td>2011</td>\n",
       "      <td>37.0</td>\n",
       "      <td>0.145700</td>\n",
       "      <td>0.177975</td>\n",
       "      <td>0.274985</td>\n",
       "      <td>154149</td>\n",
       "    </tr>\n",
       "    <tr>\n",
       "      <th>1</th>\n",
       "      <td>44.0</td>\n",
       "      <td>0.0</td>\n",
       "      <td>5.0</td>\n",
       "      <td>9.0</td>\n",
       "      <td>1974.0</td>\n",
       "      <td>2.0</td>\n",
       "      <td>0.0</td>\n",
       "      <td>6.0</td>\n",
       "      <td>3.623270</td>\n",
       "      <td>1.0</td>\n",
       "      <td>2011</td>\n",
       "      <td>37.0</td>\n",
       "      <td>0.134365</td>\n",
       "      <td>0.581511</td>\n",
       "      <td>0.254814</td>\n",
       "      <td>154149</td>\n",
       "    </tr>\n",
       "    <tr>\n",
       "      <th>2</th>\n",
       "      <td>38.0</td>\n",
       "      <td>34.0</td>\n",
       "      <td>2.0</td>\n",
       "      <td>0.0</td>\n",
       "      <td>0.0</td>\n",
       "      <td>0.0</td>\n",
       "      <td>0.0</td>\n",
       "      <td>0.0</td>\n",
       "      <td>5.262578</td>\n",
       "      <td>0.0</td>\n",
       "      <td>2011</td>\n",
       "      <td>0.0</td>\n",
       "      <td>0.151205</td>\n",
       "      <td>0.295021</td>\n",
       "      <td>0.054883</td>\n",
       "      <td>154149</td>\n",
       "    </tr>\n",
       "    <tr>\n",
       "      <th>3</th>\n",
       "      <td>32.0</td>\n",
       "      <td>19.0</td>\n",
       "      <td>9.0</td>\n",
       "      <td>9.0</td>\n",
       "      <td>1975.0</td>\n",
       "      <td>1.0</td>\n",
       "      <td>2.0</td>\n",
       "      <td>6.0</td>\n",
       "      <td>3.914421</td>\n",
       "      <td>1.0</td>\n",
       "      <td>2011</td>\n",
       "      <td>36.0</td>\n",
       "      <td>0.121817</td>\n",
       "      <td>0.346549</td>\n",
       "      <td>0.167543</td>\n",
       "      <td>154149</td>\n",
       "    </tr>\n",
       "    <tr>\n",
       "      <th>4</th>\n",
       "      <td>44.0</td>\n",
       "      <td>28.0</td>\n",
       "      <td>4.0</td>\n",
       "      <td>9.0</td>\n",
       "      <td>1974.0</td>\n",
       "      <td>2.0</td>\n",
       "      <td>0.0</td>\n",
       "      <td>6.0</td>\n",
       "      <td>3.739761</td>\n",
       "      <td>1.0</td>\n",
       "      <td>2011</td>\n",
       "      <td>37.0</td>\n",
       "      <td>0.061154</td>\n",
       "      <td>0.595054</td>\n",
       "      <td>0.227483</td>\n",
       "      <td>154149</td>\n",
       "    </tr>\n",
       "  </tbody>\n",
       "</table>\n",
       "</div>"
      ],
      "text/plain": [
       "   full_sq  life_sq  floor  max_floor  build_year  num_room  state  kitch_sq  \\\n",
       "0     43.0     27.0    4.0        9.0      1974.0       2.0    2.0       6.0   \n",
       "1     44.0      0.0    5.0        9.0      1974.0       2.0    0.0       6.0   \n",
       "2     38.0     34.0    2.0        0.0         0.0       0.0    0.0       0.0   \n",
       "3     32.0     19.0    9.0        9.0      1975.0       1.0    2.0       6.0   \n",
       "4     44.0     28.0    4.0        9.0      1974.0       2.0    0.0       6.0   \n",
       "\n",
       "   metro_min_avto  material  year  expl  kindergarten_km  school_km  \\\n",
       "0        2.590241       1.0  2011  37.0         0.145700   0.177975   \n",
       "1        3.623270       1.0  2011  37.0         0.134365   0.581511   \n",
       "2        5.262578       0.0  2011   0.0         0.151205   0.295021   \n",
       "3        3.914421       1.0  2011  36.0         0.121817   0.346549   \n",
       "4        3.739761       1.0  2011  37.0         0.061154   0.595054   \n",
       "\n",
       "   public_transport_station_km     avp  \n",
       "0                     0.274985  154149  \n",
       "1                     0.254814  154149  \n",
       "2                     0.054883  154149  \n",
       "3                     0.167543  154149  \n",
       "4                     0.227483  154149  "
      ]
     },
     "execution_count": 294,
     "metadata": {},
     "output_type": "execute_result"
    }
   ],
   "source": [
    "df3.head()"
   ]
  },
  {
   "cell_type": "code",
   "execution_count": 38,
   "metadata": {
    "collapsed": true
   },
   "outputs": [],
   "source": [
    "wrong = []\n",
    "\n",
    "for i in range(len(df2)):\n",
    "    if abs(df2.price_m.values[i] / df2.avp.values[i] - 1) > 0.4:\n",
    "        wrong.append(1)\n",
    "    else:\n",
    "        wrong.append(0)\n",
    "df2[\"wrong\"] = wrong"
   ]
  },
  {
   "cell_type": "code",
   "execution_count": 39,
   "metadata": {
    "collapsed": false
   },
   "outputs": [],
   "source": [
    "inds = random.sample(list(df2[(df2.state > 0)&(df2.build_year > 0)&(df2.max_floor > 0)&(df2.wrong == 0)\n",
    "                              &(df2.floor > 0)].index), 1000)"
   ]
  },
  {
   "cell_type": "code",
   "execution_count": 77,
   "metadata": {
    "collapsed": true
   },
   "outputs": [],
   "source": [
    "inds = list(df5.index)\n",
    "inds = inds[-1000:]"
   ]
  },
  {
   "cell_type": "code",
   "execution_count": 81,
   "metadata": {
    "collapsed": false
   },
   "outputs": [
    {
     "name": "stdout",
     "output_type": "stream",
     "text": [
      "Wall time: 11min 5s\n"
     ]
    }
   ],
   "source": [
    "%%time\n",
    "\n",
    "p1, p2 = [], []\n",
    "\n",
    "for ind in inds:\n",
    "    p1.append(df4[[\"price_m\"]].loc[ind].values[0])\n",
    "    p2.append(find_similar(ind))"
   ]
  },
  {
   "cell_type": "code",
   "execution_count": 82,
   "metadata": {
    "collapsed": false
   },
   "outputs": [
    {
     "data": {
      "text/plain": [
       "0.26668549789603535"
      ]
     },
     "execution_count": 82,
     "metadata": {},
     "output_type": "execute_result"
    }
   ],
   "source": [
    "l = (np.log1p(np.array(p1)) - np.log1p(np.array(p2)))**2\n",
    "np.sqrt((1/len(p1))*sum(l))"
   ]
  },
  {
   "cell_type": "code",
   "execution_count": 242,
   "metadata": {
    "collapsed": false
   },
   "outputs": [
    {
     "data": {
      "text/plain": [
       "0.19948650567017986"
      ]
     },
     "execution_count": 242,
     "metadata": {},
     "output_type": "execute_result"
    }
   ],
   "source": [
    "0.19443164110479511"
   ]
  },
  {
   "cell_type": "code",
   "execution_count": null,
   "metadata": {
    "collapsed": true
   },
   "outputs": [],
   "source": [
    "9,5 0.130 0.123 0.129\n",
    "10,5 0.130 0.128 0.128\n",
    "10,6 0.129 0.123 0.127"
   ]
  },
  {
   "cell_type": "code",
   "execution_count": null,
   "metadata": {
    "collapsed": true
   },
   "outputs": [],
   "source": []
  },
  {
   "cell_type": "code",
   "execution_count": 15,
   "metadata": {
    "collapsed": true
   },
   "outputs": [],
   "source": [
    "df4 = df.copy()\n",
    "df4.fillna(0, inplace=True)\n",
    "df4 = df4[df4.price_doc == 0].reset_index(drop=True)\n",
    "df5 = df4.drop([\"id\", \"sub_area\", \"price_doc\", \"price_m\", \"growth\",\"month\", \"coef\", \"pma\"],1)\n",
    "test_inds = df4.id.values\n",
    "ss = StandardScaler()\n",
    "X0 = ss.fit_transform(df5)"
   ]
  },
  {
   "cell_type": "code",
   "execution_count": 90,
   "metadata": {
    "collapsed": true
   },
   "outputs": [],
   "source": [
    "X0 = df7.values"
   ]
  },
  {
   "cell_type": "code",
   "execution_count": 91,
   "metadata": {
    "collapsed": false
   },
   "outputs": [
    {
     "name": "stdout",
     "output_type": "stream",
     "text": [
      "Wall time: 1h 22min 20s\n"
     ]
    }
   ],
   "source": [
    "%%time\n",
    "\n",
    "p = []\n",
    "\n",
    "for j in range(len(X0)):\n",
    "    v = X0[j]\n",
    "    p.append(find_similar(v))"
   ]
  },
  {
   "cell_type": "code",
   "execution_count": 95,
   "metadata": {
    "collapsed": false
   },
   "outputs": [
    {
     "data": {
      "text/html": [
       "<div>\n",
       "<table border=\"1\" class=\"dataframe\">\n",
       "  <thead>\n",
       "    <tr style=\"text-align: right;\">\n",
       "      <th></th>\n",
       "      <th>id</th>\n",
       "      <th>life_sq</th>\n",
       "      <th>floor</th>\n",
       "      <th>max_floor</th>\n",
       "      <th>build_year</th>\n",
       "      <th>num_room</th>\n",
       "      <th>state</th>\n",
       "      <th>sub_area</th>\n",
       "      <th>kitch_sq</th>\n",
       "      <th>metro_min_avto</th>\n",
       "      <th>...</th>\n",
       "      <th>year</th>\n",
       "      <th>expl</th>\n",
       "      <th>kindergarten_km</th>\n",
       "      <th>school_km</th>\n",
       "      <th>public_transport_station_km</th>\n",
       "      <th>avp</th>\n",
       "      <th>growth</th>\n",
       "      <th>coef</th>\n",
       "      <th>pma</th>\n",
       "      <th>full_sq</th>\n",
       "    </tr>\n",
       "  </thead>\n",
       "  <tbody>\n",
       "    <tr>\n",
       "      <th>0</th>\n",
       "      <td>30580</td>\n",
       "      <td>0.091810</td>\n",
       "      <td>0.022727</td>\n",
       "      <td>0.157895</td>\n",
       "      <td>0.979693</td>\n",
       "      <td>0.111111</td>\n",
       "      <td>0.50</td>\n",
       "      <td>Bibirevo</td>\n",
       "      <td>0.112281</td>\n",
       "      <td>0.071149</td>\n",
       "      <td>...</td>\n",
       "      <td>0.8</td>\n",
       "      <td>0.257862</td>\n",
       "      <td>0.003328</td>\n",
       "      <td>0.012999</td>\n",
       "      <td>0.003339</td>\n",
       "      <td>0.198426</td>\n",
       "      <td>-1.6</td>\n",
       "      <td>0.864001</td>\n",
       "      <td>0.0</td>\n",
       "      <td>36.6</td>\n",
       "    </tr>\n",
       "    <tr>\n",
       "      <th>1</th>\n",
       "      <td>30657</td>\n",
       "      <td>0.129310</td>\n",
       "      <td>0.045455</td>\n",
       "      <td>0.210526</td>\n",
       "      <td>0.978702</td>\n",
       "      <td>0.222222</td>\n",
       "      <td>0.50</td>\n",
       "      <td>Bibirevo</td>\n",
       "      <td>0.117544</td>\n",
       "      <td>0.063280</td>\n",
       "      <td>...</td>\n",
       "      <td>0.8</td>\n",
       "      <td>0.270440</td>\n",
       "      <td>0.003285</td>\n",
       "      <td>0.006421</td>\n",
       "      <td>0.008312</td>\n",
       "      <td>0.198426</td>\n",
       "      <td>-1.6</td>\n",
       "      <td>0.864001</td>\n",
       "      <td>0.0</td>\n",
       "      <td>45.5</td>\n",
       "    </tr>\n",
       "    <tr>\n",
       "      <th>2</th>\n",
       "      <td>30897</td>\n",
       "      <td>0.181897</td>\n",
       "      <td>0.204545</td>\n",
       "      <td>0.157895</td>\n",
       "      <td>0.977712</td>\n",
       "      <td>0.333333</td>\n",
       "      <td>0.75</td>\n",
       "      <td>Bibirevo</td>\n",
       "      <td>0.101754</td>\n",
       "      <td>0.030571</td>\n",
       "      <td>...</td>\n",
       "      <td>0.8</td>\n",
       "      <td>0.283019</td>\n",
       "      <td>0.002641</td>\n",
       "      <td>0.006816</td>\n",
       "      <td>0.011958</td>\n",
       "      <td>0.198426</td>\n",
       "      <td>-1.6</td>\n",
       "      <td>0.864001</td>\n",
       "      <td>0.0</td>\n",
       "      <td>59.3</td>\n",
       "    </tr>\n",
       "    <tr>\n",
       "      <th>3</th>\n",
       "      <td>31095</td>\n",
       "      <td>0.081034</td>\n",
       "      <td>0.068182</td>\n",
       "      <td>0.157895</td>\n",
       "      <td>0.978207</td>\n",
       "      <td>0.111111</td>\n",
       "      <td>0.50</td>\n",
       "      <td>Bibirevo</td>\n",
       "      <td>0.107018</td>\n",
       "      <td>0.055656</td>\n",
       "      <td>...</td>\n",
       "      <td>0.8</td>\n",
       "      <td>0.276730</td>\n",
       "      <td>0.004604</td>\n",
       "      <td>0.012270</td>\n",
       "      <td>0.014475</td>\n",
       "      <td>0.198426</td>\n",
       "      <td>-1.6</td>\n",
       "      <td>0.864001</td>\n",
       "      <td>0.0</td>\n",
       "      <td>32.6</td>\n",
       "    </tr>\n",
       "    <tr>\n",
       "      <th>4</th>\n",
       "      <td>31536</td>\n",
       "      <td>0.170259</td>\n",
       "      <td>0.022727</td>\n",
       "      <td>0.210526</td>\n",
       "      <td>0.978207</td>\n",
       "      <td>0.333333</td>\n",
       "      <td>0.75</td>\n",
       "      <td>Bibirevo</td>\n",
       "      <td>0.140351</td>\n",
       "      <td>0.024186</td>\n",
       "      <td>...</td>\n",
       "      <td>0.8</td>\n",
       "      <td>0.276730</td>\n",
       "      <td>0.004390</td>\n",
       "      <td>0.007530</td>\n",
       "      <td>0.006889</td>\n",
       "      <td>0.198426</td>\n",
       "      <td>-1.6</td>\n",
       "      <td>0.864001</td>\n",
       "      <td>0.0</td>\n",
       "      <td>61.8</td>\n",
       "    </tr>\n",
       "  </tbody>\n",
       "</table>\n",
       "<p>5 rows × 24 columns</p>\n",
       "</div>"
      ],
      "text/plain": [
       "      id   life_sq     floor  max_floor  build_year  num_room  state  \\\n",
       "0  30580  0.091810  0.022727   0.157895    0.979693  0.111111   0.50   \n",
       "1  30657  0.129310  0.045455   0.210526    0.978702  0.222222   0.50   \n",
       "2  30897  0.181897  0.204545   0.157895    0.977712  0.333333   0.75   \n",
       "3  31095  0.081034  0.068182   0.157895    0.978207  0.111111   0.50   \n",
       "4  31536  0.170259  0.022727   0.210526    0.978207  0.333333   0.75   \n",
       "\n",
       "   sub_area  kitch_sq  metro_min_avto   ...     year      expl  \\\n",
       "0  Bibirevo  0.112281        0.071149   ...      0.8  0.257862   \n",
       "1  Bibirevo  0.117544        0.063280   ...      0.8  0.270440   \n",
       "2  Bibirevo  0.101754        0.030571   ...      0.8  0.283019   \n",
       "3  Bibirevo  0.107018        0.055656   ...      0.8  0.276730   \n",
       "4  Bibirevo  0.140351        0.024186   ...      0.8  0.276730   \n",
       "\n",
       "   kindergarten_km  school_km  public_transport_station_km       avp  growth  \\\n",
       "0         0.003328   0.012999                     0.003339  0.198426    -1.6   \n",
       "1         0.003285   0.006421                     0.008312  0.198426    -1.6   \n",
       "2         0.002641   0.006816                     0.011958  0.198426    -1.6   \n",
       "3         0.004604   0.012270                     0.014475  0.198426    -1.6   \n",
       "4         0.004390   0.007530                     0.006889  0.198426    -1.6   \n",
       "\n",
       "       coef  pma  full_sq  \n",
       "0  0.864001  0.0     36.6  \n",
       "1  0.864001  0.0     45.5  \n",
       "2  0.864001  0.0     59.3  \n",
       "3  0.864001  0.0     32.6  \n",
       "4  0.864001  0.0     61.8  \n",
       "\n",
       "[5 rows x 24 columns]"
      ]
     },
     "execution_count": 95,
     "metadata": {},
     "output_type": "execute_result"
    }
   ],
   "source": [
    "df6.head()"
   ]
  },
  {
   "cell_type": "code",
   "execution_count": 96,
   "metadata": {
    "collapsed": false
   },
   "outputs": [
    {
     "data": {
      "text/plain": [
       "7662"
      ]
     },
     "execution_count": 96,
     "metadata": {},
     "output_type": "execute_result"
    }
   ],
   "source": [
    "len(df6)"
   ]
  },
  {
   "cell_type": "code",
   "execution_count": 94,
   "metadata": {
    "collapsed": true
   },
   "outputs": [],
   "source": [
    "df6.drop(\"full_sq\",1,inplace=True)\n",
    "df6 = df6.merge(df2[[\"id\", \"full_sq\"]], on=\"id\")"
   ]
  },
  {
   "cell_type": "code",
   "execution_count": 97,
   "metadata": {
    "collapsed": true
   },
   "outputs": [],
   "source": [
    "df6[\"price_m\"] = p\n",
    "df6[\"price_doc\"] = df6.price_m * df6.full_sq"
   ]
  },
  {
   "cell_type": "code",
   "execution_count": 99,
   "metadata": {
    "collapsed": false
   },
   "outputs": [
    {
     "name": "stderr",
     "output_type": "stream",
     "text": [
      "C:\\Anaconda3\\lib\\site-packages\\ipykernel\\__main__.py:2: FutureWarning: sort(columns=....) is deprecated, use sort_values(by=.....)\n",
      "  from ipykernel import kernelapp as app\n",
      "C:\\Anaconda3\\lib\\site-packages\\pandas\\core\\frame.py:3304: SettingWithCopyWarning: \n",
      "A value is trying to be set on a copy of a slice from a DataFrame\n",
      "\n",
      "See the caveats in the documentation: http://pandas.pydata.org/pandas-docs/stable/indexing.html#indexing-view-versus-copy\n",
      "  na_position=na_position)\n"
     ]
    }
   ],
   "source": [
    "res = df6[[\"id\", \"price_doc\"]]\n",
    "res.sort(columns=\"id\", inplace=True)"
   ]
  },
  {
   "cell_type": "code",
   "execution_count": 100,
   "metadata": {
    "collapsed": false
   },
   "outputs": [
    {
     "data": {
      "text/html": [
       "<div>\n",
       "<table border=\"1\" class=\"dataframe\">\n",
       "  <thead>\n",
       "    <tr style=\"text-align: right;\">\n",
       "      <th></th>\n",
       "      <th>id</th>\n",
       "      <th>price_doc</th>\n",
       "    </tr>\n",
       "  </thead>\n",
       "  <tbody>\n",
       "    <tr>\n",
       "      <th>2407</th>\n",
       "      <td>30474</td>\n",
       "      <td>6.262847e+06</td>\n",
       "    </tr>\n",
       "    <tr>\n",
       "      <th>6929</th>\n",
       "      <td>30475</td>\n",
       "      <td>8.982746e+06</td>\n",
       "    </tr>\n",
       "    <tr>\n",
       "      <th>4610</th>\n",
       "      <td>30476</td>\n",
       "      <td>6.269445e+06</td>\n",
       "    </tr>\n",
       "    <tr>\n",
       "      <th>6727</th>\n",
       "      <td>30477</td>\n",
       "      <td>8.444016e+06</td>\n",
       "    </tr>\n",
       "    <tr>\n",
       "      <th>6930</th>\n",
       "      <td>30478</td>\n",
       "      <td>5.759632e+06</td>\n",
       "    </tr>\n",
       "  </tbody>\n",
       "</table>\n",
       "</div>"
      ],
      "text/plain": [
       "         id     price_doc\n",
       "2407  30474  6.262847e+06\n",
       "6929  30475  8.982746e+06\n",
       "4610  30476  6.269445e+06\n",
       "6727  30477  8.444016e+06\n",
       "6930  30478  5.759632e+06"
      ]
     },
     "execution_count": 100,
     "metadata": {},
     "output_type": "execute_result"
    }
   ],
   "source": [
    "res.head()"
   ]
  },
  {
   "cell_type": "code",
   "execution_count": 101,
   "metadata": {
    "collapsed": true
   },
   "outputs": [],
   "source": [
    "res.to_csv(\"C:/Users/Berezina.Darya/Documents/GitHub/Sberbank/output.csv\", index=False)"
   ]
  },
  {
   "cell_type": "code",
   "execution_count": null,
   "metadata": {
    "collapsed": false
   },
   "outputs": [],
   "source": []
  },
  {
   "cell_type": "code",
   "execution_count": null,
   "metadata": {
    "collapsed": true
   },
   "outputs": [],
   "source": []
  },
  {
   "cell_type": "code",
   "execution_count": null,
   "metadata": {
    "collapsed": true
   },
   "outputs": [],
   "source": []
  },
  {
   "cell_type": "code",
   "execution_count": null,
   "metadata": {
    "collapsed": true
   },
   "outputs": [],
   "source": []
  },
  {
   "cell_type": "code",
   "execution_count": null,
   "metadata": {
    "collapsed": true
   },
   "outputs": [],
   "source": []
  },
  {
   "cell_type": "code",
   "execution_count": null,
   "metadata": {
    "collapsed": true
   },
   "outputs": [],
   "source": []
  },
  {
   "cell_type": "code",
   "execution_count": null,
   "metadata": {
    "collapsed": true
   },
   "outputs": [],
   "source": []
  }
 ],
 "metadata": {
  "kernelspec": {
   "display_name": "Python 3",
   "language": "python",
   "name": "python3"
  },
  "language_info": {
   "codemirror_mode": {
    "name": "ipython",
    "version": 3
   },
   "file_extension": ".py",
   "mimetype": "text/x-python",
   "name": "python",
   "nbconvert_exporter": "python",
   "pygments_lexer": "ipython3",
   "version": "3.6.0"
  }
 },
 "nbformat": 4,
 "nbformat_minor": 2
}
